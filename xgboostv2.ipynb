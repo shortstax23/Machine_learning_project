{
 "cells": [
  {
   "cell_type": "markdown",
   "id": "1af09253",
   "metadata": {},
   "source": [
    "## Imports"
   ]
  },
  {
   "cell_type": "code",
   "execution_count": 345,
   "id": "37c1c963",
   "metadata": {},
   "outputs": [],
   "source": [
    "import pandas as pd\n",
    "import matplotlib.pyplot as plt\n",
    "from sklearn.model_selection import train_test_split\n",
    "from sklearn.metrics import root_mean_squared_error\n",
    "import xgboost as xgb"
   ]
  },
  {
   "cell_type": "code",
   "execution_count": 346,
   "id": "4f541d8f",
   "metadata": {},
   "outputs": [],
   "source": [
    "df = pd.read_csv('train.csv')\n",
    "df.dropna(subset=['value_eur'], inplace=True)"
   ]
  },
  {
   "cell_type": "code",
   "execution_count": 347,
   "id": "cd237af9",
   "metadata": {},
   "outputs": [
    {
     "name": "stdout",
     "output_type": "stream",
     "text": [
      "<class 'pandas.core.frame.DataFrame'>\n",
      "Index: 15333 entries, 0 to 15390\n",
      "Data columns (total 76 columns):\n",
      " #   Column                       Non-Null Count  Dtype  \n",
      "---  ------                       --------------  -----  \n",
      " 0   Unnamed: 0                   15333 non-null  int64  \n",
      " 1   id                           15333 non-null  int64  \n",
      " 2   short_name                   15333 non-null  object \n",
      " 3   long_name                    15333 non-null  object \n",
      " 4   player_positions             15333 non-null  object \n",
      " 5   overall                      15333 non-null  int64  \n",
      " 6   potential                    15333 non-null  int64  \n",
      " 7   value_eur                    15333 non-null  float64\n",
      " 8   wage_eur                     15333 non-null  float64\n",
      " 9   age                          15333 non-null  int64  \n",
      " 10  dob                          15333 non-null  object \n",
      " 11  height_cm                    15333 non-null  int64  \n",
      " 12  weight_kg                    15333 non-null  int64  \n",
      " 13  club_team_id                 15333 non-null  float64\n",
      " 14  club_name                    15333 non-null  object \n",
      " 15  league_name                  15333 non-null  object \n",
      " 16  league_level                 15333 non-null  float64\n",
      " 17  club_position                15333 non-null  object \n",
      " 18  club_jersey_number           15333 non-null  float64\n",
      " 19  club_loaned_from             876 non-null    object \n",
      " 20  club_joined                  14457 non-null  object \n",
      " 21  club_contract_valid_until    15333 non-null  float64\n",
      " 22  nationality_id               15333 non-null  int64  \n",
      " 23  nationality_name             15333 non-null  object \n",
      " 24  nation_position              556 non-null    object \n",
      " 25  nation_jersey_number         556 non-null    float64\n",
      " 26  preferred_foot               15333 non-null  object \n",
      " 27  weak_foot                    15333 non-null  int64  \n",
      " 28  skill_moves                  15333 non-null  int64  \n",
      " 29  international_reputation     15333 non-null  int64  \n",
      " 30  work_rate                    15333 non-null  object \n",
      " 31  body_type                    15333 non-null  object \n",
      " 32  release_clause_eur           14457 non-null  float64\n",
      " 33  player_tags                  1155 non-null   object \n",
      " 34  player_traits                7411 non-null   object \n",
      " 35  pace                         13610 non-null  float64\n",
      " 36  shooting                     13610 non-null  float64\n",
      " 37  passing                      13610 non-null  float64\n",
      " 38  dribbling                    13610 non-null  float64\n",
      " 39  defending                    13610 non-null  float64\n",
      " 40  physic                       13610 non-null  float64\n",
      " 41  attacking_crossing           15333 non-null  int64  \n",
      " 42  attacking_finishing          15333 non-null  int64  \n",
      " 43  attacking_heading_accuracy   15333 non-null  int64  \n",
      " 44  attacking_short_passing      15333 non-null  int64  \n",
      " 45  attacking_volleys            15333 non-null  int64  \n",
      " 46  skill_dribbling              15333 non-null  int64  \n",
      " 47  skill_curve                  15333 non-null  int64  \n",
      " 48  skill_fk_accuracy            15333 non-null  int64  \n",
      " 49  skill_long_passing           15333 non-null  int64  \n",
      " 50  skill_ball_control           15333 non-null  int64  \n",
      " 51  movement_acceleration        15333 non-null  int64  \n",
      " 52  movement_sprint_speed        15333 non-null  int64  \n",
      " 53  movement_agility             15333 non-null  int64  \n",
      " 54  movement_reactions           15333 non-null  int64  \n",
      " 55  movement_balance             15333 non-null  int64  \n",
      " 56  power_shot_power             15333 non-null  int64  \n",
      " 57  power_jumping                15333 non-null  int64  \n",
      " 58  power_stamina                15333 non-null  int64  \n",
      " 59  power_strength               15333 non-null  int64  \n",
      " 60  power_long_shots             15333 non-null  int64  \n",
      " 61  mentality_aggression         15333 non-null  int64  \n",
      " 62  mentality_interceptions      15333 non-null  int64  \n",
      " 63  mentality_positioning        15333 non-null  int64  \n",
      " 64  mentality_vision             15333 non-null  int64  \n",
      " 65  mentality_penalties          15333 non-null  int64  \n",
      " 66  mentality_composure          15333 non-null  int64  \n",
      " 67  defending_marking_awareness  15333 non-null  int64  \n",
      " 68  defending_standing_tackle    15333 non-null  int64  \n",
      " 69  defending_sliding_tackle     15333 non-null  int64  \n",
      " 70  goalkeeping_diving           15333 non-null  int64  \n",
      " 71  goalkeeping_handling         15333 non-null  int64  \n",
      " 72  goalkeeping_kicking          15333 non-null  int64  \n",
      " 73  goalkeeping_positioning      15333 non-null  int64  \n",
      " 74  goalkeeping_reflexes         15333 non-null  int64  \n",
      " 75  goalkeeping_speed            1723 non-null   float64\n",
      "dtypes: float64(15), int64(45), object(16)\n",
      "memory usage: 9.0+ MB\n"
     ]
    }
   ],
   "source": [
    "df.info()"
   ]
  },
  {
   "cell_type": "markdown",
   "id": "915b5623",
   "metadata": {},
   "source": [
    "## Drop irrelevant columns"
   ]
  },
  {
   "cell_type": "code",
   "execution_count": 348,
   "id": "11783d03",
   "metadata": {},
   "outputs": [],
   "source": [
    "cols_to_drop = ['Unnamed: 0', 'id', 'short_name', \"long_name\", \"dob\", \"club_jersey_number\", \"nation_jersey_number\", \"club_name\", \"club_loaned_from\", \"nation_position\", \"player_traits\", \"player_tags\", \"nationality_name\"]\n",
    "\n",
    "df.drop(columns=cols_to_drop, inplace=True, errors='ignore')"
   ]
  },
  {
   "cell_type": "markdown",
   "id": "ebb9230e",
   "metadata": {},
   "source": [
    "## Contract-related variable manipulation"
   ]
  },
  {
   "cell_type": "code",
   "execution_count": 349,
   "id": "2cff182f",
   "metadata": {},
   "outputs": [],
   "source": [
    "start_date = float(2021) # year when dataset was recorded \n",
    "df[\"years_left_contract\"] = df[\"club_contract_valid_until\"] - start_date\n",
    "\n",
    "df['club_joined'] = pd.to_datetime(df['club_joined'], format='%Y-%m-%d')\n",
    "df[\"years_in_club\"] = start_date - df[\"club_joined\"].dt.year"
   ]
  },
  {
   "cell_type": "code",
   "execution_count": 350,
   "id": "f401bd3c",
   "metadata": {},
   "outputs": [],
   "source": [
    "df.drop(columns=[\"club_contract_valid_until\", \"club_joined\"], inplace=True, errors='ignore')"
   ]
  },
  {
   "cell_type": "markdown",
   "id": "62434e8d",
   "metadata": {},
   "source": [
    "## Work rate split"
   ]
  },
  {
   "cell_type": "code",
   "execution_count": 351,
   "id": "f4489430",
   "metadata": {},
   "outputs": [],
   "source": [
    "df[[\"work_attack\", \"work_defense\"]] = df[\"work_rate\"].str.split(\"/\", expand=True)\n",
    "maps = {\"Low\": 1, \"Medium\": 2, \"High\": 3}\n",
    "df[\"work_attack\"] = df[\"work_attack\"].map(maps)\n",
    "df[\"work_defense\"] = df[\"work_defense\"].map(maps)"
   ]
  },
  {
   "cell_type": "code",
   "execution_count": 352,
   "id": "1cb3623f",
   "metadata": {},
   "outputs": [],
   "source": [
    "df[\"primary_position\"] = df[\"player_positions\"].str.split(\",\", expand=True)[0]"
   ]
  },
  {
   "cell_type": "markdown",
   "id": "05c03138",
   "metadata": {},
   "source": [
    "## Grouping Technical Attributes"
   ]
  },
  {
   "cell_type": "code",
   "execution_count": 353,
   "id": "aec9f5aa",
   "metadata": {},
   "outputs": [],
   "source": [
    "#Attacking attributes score\n",
    "df[\"attacking_score\"] = df[[\n",
    "    \"attacking_crossing\",\n",
    "    \"attacking_finishing\",\n",
    "    \"attacking_heading_accuracy\",\n",
    "    \"attacking_short_passing\",\n",
    "    \"attacking_volleys\"\n",
    "]].mean(axis=1)"
   ]
  },
  {
   "cell_type": "code",
   "execution_count": 354,
   "id": "88c49205",
   "metadata": {},
   "outputs": [],
   "source": [
    "#Skills attributes score\n",
    "df[\"skills_score\"] = df[[\n",
    "    \"skill_dribbling\",\n",
    "    \"skill_curve\",\n",
    "    \"skill_fk_accuracy\",\n",
    "    \"skill_long_passing\",\n",
    "    \"skill_ball_control\"\n",
    "]].mean(axis=1)"
   ]
  },
  {
   "cell_type": "code",
   "execution_count": 355,
   "id": "fd7dbe6c",
   "metadata": {},
   "outputs": [],
   "source": [
    "# Movement attributes score\n",
    "df[\"movement_score\"] = df[[\n",
    "    \"movement_acceleration\",\n",
    "    \"movement_sprint_speed\",\n",
    "    \"movement_agility\",\n",
    "    \"movement_reactions\",\n",
    "    \"movement_balance\"\n",
    "]].mean(axis=1)"
   ]
  },
  {
   "cell_type": "code",
   "execution_count": 356,
   "id": "703fd7cd",
   "metadata": {},
   "outputs": [],
   "source": [
    "# Power attributes score\n",
    "df[\"power_score\"] = df[[\n",
    "    \"power_shot_power\",\n",
    "    \"power_jumping\",\n",
    "    \"power_stamina\",\n",
    "    \"power_strength\",\n",
    "    \"power_long_shots\"\n",
    "]].mean(axis=1)"
   ]
  },
  {
   "cell_type": "code",
   "execution_count": 357,
   "id": "88d5654d",
   "metadata": {},
   "outputs": [],
   "source": [
    "# Mentality attributes score\n",
    "df[\"mentality_score\"] = df[[\n",
    "    \"mentality_aggression\",\n",
    "    \"mentality_interceptions\",\n",
    "    \"mentality_positioning\",\n",
    "    \"mentality_vision\",\n",
    "    \"mentality_penalties\",\n",
    "    \"mentality_composure\"\n",
    "]].mean(axis=1)"
   ]
  },
  {
   "cell_type": "code",
   "execution_count": 358,
   "id": "c14d0e7a",
   "metadata": {},
   "outputs": [],
   "source": [
    "# Defending technical attributes score\n",
    "df[\"defending_technical_score\"] = df[[\n",
    "    \"defending_marking_awareness\",\n",
    "    \"defending_standing_tackle\",\n",
    "    \"defending_sliding_tackle\"\n",
    "]].mean(axis=1)"
   ]
  },
  {
   "cell_type": "markdown",
   "id": "021d7233",
   "metadata": {},
   "source": [
    "## Starter bool"
   ]
  },
  {
   "cell_type": "code",
   "execution_count": 359,
   "id": "30160fad",
   "metadata": {},
   "outputs": [],
   "source": [
    "df[\"is_starter\"] = (~df[\"club_position\"].isin([\"SUB\", \"RES\"])).astype(int)"
   ]
  },
  {
   "cell_type": "markdown",
   "id": "83dddd69",
   "metadata": {},
   "source": [
    "## Multipositional bool"
   ]
  },
  {
   "cell_type": "code",
   "execution_count": 360,
   "id": "dfde0eb8",
   "metadata": {},
   "outputs": [],
   "source": [
    "df[\"multiple_positions\"] = df[\"player_positions\"].str.split(\",\").apply(lambda x: len(x) > 1).astype(int)"
   ]
  },
  {
   "cell_type": "markdown",
   "id": "85b25d48",
   "metadata": {},
   "source": [
    "## Handle Missing Data"
   ]
  },
  {
   "cell_type": "code",
   "execution_count": 361,
   "id": "f9c444a3",
   "metadata": {},
   "outputs": [
    {
     "name": "stdout",
     "output_type": "stream",
     "text": [
      "Index(['release_clause_eur', 'pace', 'shooting', 'passing', 'dribbling',\n",
      "       'defending', 'physic', 'goalkeeping_speed', 'years_in_club'],\n",
      "      dtype='object')\n"
     ]
    }
   ],
   "source": [
    "null_columns = df.columns[df.isnull().any()]\n",
    "print(null_columns)"
   ]
  },
  {
   "cell_type": "code",
   "execution_count": 362,
   "id": "74ba5723",
   "metadata": {},
   "outputs": [],
   "source": [
    "df[\"years_in_club\"] = df['years_in_club'].fillna(df['years_in_club'].mean())\n",
    "df['release_clause_eur'] = df['release_clause_eur'].fillna(df['release_clause_eur'].median())\n",
    "df['pace'] = df['pace'].fillna(0)\n",
    "df['shooting'] = df['shooting'].fillna(0)\n",
    "df['passing'] = df['passing'].fillna(0)\n",
    "df['dribbling'] = df['dribbling'].fillna(0)\n",
    "df['defending'] = df['defending'].fillna(0)\n",
    "df['physic'] = df['physic'].fillna(0)\n",
    "df['goalkeeping_speed'] = df['goalkeeping_speed'].fillna(0)"
   ]
  },
  {
   "cell_type": "code",
   "execution_count": 363,
   "id": "e0f59aa2",
   "metadata": {},
   "outputs": [],
   "source": [
    "cat_cols = df.select_dtypes(include=['object']).columns\n",
    "\n",
    "for col in cat_cols:\n",
    "    df[col] = df[col].astype('category')"
   ]
  },
  {
   "cell_type": "code",
   "execution_count": 364,
   "id": "e68ea2ee",
   "metadata": {},
   "outputs": [],
   "source": [
    "df[\"overall_potential\"] = df[\"overall\"] * df[\"potential\"]"
   ]
  },
  {
   "cell_type": "markdown",
   "id": "b145c919",
   "metadata": {},
   "source": [
    "## Median-encoding for club and league"
   ]
  },
  {
   "cell_type": "markdown",
   "id": "d1b774db",
   "metadata": {},
   "source": [
    "### Train-test split to avoid data leakage"
   ]
  },
  {
   "cell_type": "code",
   "execution_count": 365,
   "id": "9dfa9b32",
   "metadata": {},
   "outputs": [],
   "source": [
    "y = df[\"value_eur\"]\n",
    "\n",
    "X_train, X_test, y_train, y_test = train_test_split(df, y, test_size=0.2, random_state=42)"
   ]
  },
  {
   "cell_type": "code",
   "execution_count": 366,
   "id": "117d8237",
   "metadata": {},
   "outputs": [],
   "source": [
    "median_values_by_club = X_train.groupby(\"club_team_id\")[\"value_eur\"].median().to_dict()\n",
    "median_league_value = X_train.groupby(\"league_name\", observed=True)[\"value_eur\"].median().to_dict()"
   ]
  },
  {
   "cell_type": "code",
   "execution_count": 367,
   "id": "6e00badc",
   "metadata": {},
   "outputs": [],
   "source": [
    "X_train['median_club_value'] = X_train['club_team_id'].map(median_values_by_club)\n",
    "X_test['median_club_value'] = X_test['club_team_id'].map(median_values_by_club)\n",
    "\n",
    "X_train['median_league_value'] = X_train['league_name'].map(median_league_value)\n",
    "X_test['median_league_value'] = X_test['league_name'].map(median_league_value)"
   ]
  },
  {
   "cell_type": "code",
   "execution_count": 368,
   "id": "3cf3fa0f",
   "metadata": {},
   "outputs": [
    {
     "name": "stderr",
     "output_type": "stream",
     "text": [
      "/var/folders/5d/1zskmzgj1f9c1q3hfsv9d8p00000gn/T/ipykernel_60839/3433694786.py:2: FutureWarning: The default of observed=False is deprecated and will be changed to True in a future version of pandas. Pass observed=False to retain current behavior or observed=True to adopt the future default and silence this warning.\n",
      "  club_position_target_mean = X_train.groupby('club_position')['value_eur'].mean()\n"
     ]
    }
   ],
   "source": [
    "# Calculate the mean target value for each unique value in 'club_position'\n",
    "club_position_target_mean = X_train.groupby('club_position')['value_eur'].mean()\n",
    "\n",
    "# Map the mean target values back to the 'club_position' column\n",
    "X_train['club_position_encoded'] = X_train['club_position'].map(club_position_target_mean)\n",
    "X_test['club_position_encoded'] = X_test['club_position'].map(club_position_target_mean)"
   ]
  },
  {
   "cell_type": "code",
   "execution_count": 369,
   "id": "8107f6dc",
   "metadata": {},
   "outputs": [
    {
     "name": "stderr",
     "output_type": "stream",
     "text": [
      "/var/folders/5d/1zskmzgj1f9c1q3hfsv9d8p00000gn/T/ipykernel_60839/4162679358.py:1: FutureWarning: The default of observed=False is deprecated and will be changed to True in a future version of pandas. Pass observed=False to retain current behavior or observed=True to adopt the future default and silence this warning.\n",
      "  primary_position_target_mean = X_train.groupby('primary_position')['value_eur'].mean()\n"
     ]
    }
   ],
   "source": [
    "primary_position_target_mean = X_train.groupby('primary_position')['value_eur'].mean()\n",
    "X_train['primary_position_encoded'] = X_train['primary_position'].map(primary_position_target_mean)\n",
    "X_test['primary_position_encoded'] = X_test['primary_position'].map(primary_position_target_mean)\n",
    "X_train.drop(columns=[\"club_position\", \"primary_position\"], inplace=True)\n",
    "X_test.drop(columns=[\"club_position\", \"primary_position\"], inplace=True)"
   ]
  },
  {
   "cell_type": "code",
   "execution_count": 370,
   "id": "8c259604",
   "metadata": {},
   "outputs": [],
   "source": [
    "X_train.drop(columns=[\"value_eur\"], inplace=True)\n",
    "X_test.drop(columns=[\"value_eur\"], inplace=True)\n",
    "\n",
    "X_train.drop(columns=[\"player_positions\", \"league_name\"], inplace=True)\n",
    "X_test.drop(columns=[\"player_positions\", \"league_name\"], inplace=True)\n",
    "\n",
    "X_train.drop(columns=[\"club_team_id\", \"nationality_id\"], inplace=True)\n",
    "X_test.drop(columns=[\"club_team_id\", \"nationality_id\"], inplace=True)"
   ]
  },
  {
   "cell_type": "code",
   "execution_count": 371,
   "id": "863208e3",
   "metadata": {},
   "outputs": [
    {
     "name": "stdout",
     "output_type": "stream",
     "text": [
      "Train RMSE: 6993.364844116254\n",
      "Test RMSE: 876520.2103379376\n"
     ]
    }
   ],
   "source": [
    "# Create DMatrix for training and testing\n",
    "dtrain = xgb.DMatrix(X_train, label=y_train, enable_categorical=True)\n",
    "dtest = xgb.DMatrix(X_test, label=y_test, enable_categorical=True)\n",
    "\n",
    "# Define parameters for the XGBoost model\n",
    "params = {\n",
    "    'objective': 'reg:squarederror',\n",
    "    'max_depth': 6,\n",
    "    'learning_rate': 0.1,\n",
    "    'seed': 42\n",
    "}\n",
    "\n",
    "# Train the model\n",
    "num_round = 1000\n",
    "model = xgb.train(params, dtrain, num_round)\n",
    "\n",
    "# Evaluate the model\n",
    "train_preds = model.predict(dtrain)\n",
    "test_preds = model.predict(dtest)\n",
    "\n",
    "train_rmse = root_mean_squared_error(y_train, train_preds)\n",
    "test_rmse = root_mean_squared_error(y_test, test_preds)\n",
    "\n",
    "print(f\"Train RMSE: {train_rmse}\")\n",
    "print(f\"Test RMSE: {test_rmse}\")"
   ]
  },
  {
   "cell_type": "code",
   "execution_count": 372,
   "id": "acc310ca",
   "metadata": {},
   "outputs": [
    {
     "data": {
      "image/png": "[encoded data removed]",
      "text/plain": [
       "<Figure size 640x480 with 1 Axes>"
      ]
     },
     "metadata": {},
     "output_type": "display_data"
    }
   ],
   "source": [
    "xgb.plot_importance(model, max_num_features=10, importance_type='weight')\n",
    "plt.show()"
   ]
  },
  {
   "cell_type": "code",
   "execution_count": 373,
   "id": "700ccfec",
   "metadata": {},
   "outputs": [],
   "source": [
    "# List of columns to keep\n",
    "cols_to_keep = [\n",
    "    \"overall\",\n",
    "    \"club_position_encoded\",\n",
    "    \"release_clause_eur\",\n",
    "    \"potential\",\n",
    "    \"wage_eur\",\n",
    "    \"age\",\n",
    "    \"primary_position_encoded\",\n",
    "    \"median_league_value\",\n",
    "    \"body_type\",\n",
    "    \"median_club_value\",\n",
    "    \"overall_potential\",\n",
    "]\n",
    "\n",
    "# Filter the dataset to keep only the specified columns\n",
    "X_train = X_train[cols_to_keep]\n",
    "X_test = X_test[cols_to_keep]"
   ]
  },
  {
   "cell_type": "code",
   "execution_count": 374,
   "id": "3ecc9e85",
   "metadata": {},
   "outputs": [
    {
     "name": "stdout",
     "output_type": "stream",
     "text": [
      "Train RMSE: 6091.429519777083\n",
      "Test RMSE: 959783.9029264982\n"
     ]
    }
   ],
   "source": [
    "reg = xgb.XGBRegressor(\n",
    "    max_depth=100,\n",
    "    learning_rate=0.1,\n",
    "    max_cat_to_onehot=5,\n",
    "    enable_categorical=True,\n",
    ")\n",
    "reg.fit(X_train, y_train)\n",
    "\n",
    "train_preds = reg.predict(X_train)\n",
    "test_preds = reg.predict(X_test)\n",
    "\n",
    "# Evaluate the model\n",
    "train_rmse = root_mean_squared_error(y_train, train_preds)\n",
    "test_rmse = root_mean_squared_error(y_test, test_preds)\n",
    "\n",
    "print(f\"Train RMSE: {train_rmse}\")\n",
    "print(f\"Test RMSE: {test_rmse}\")"
   ]
  },
  {
   "cell_type": "code",
   "execution_count": 375,
   "id": "28a4cf55",
   "metadata": {},
   "outputs": [],
   "source": [
    "from sklearn.preprocessing import LabelEncoder\n",
    "\n",
    "# Create a LabelEncoder instance\n",
    "le = LabelEncoder()\n",
    "\n",
    "# Fit the LabelEncoder on the categorical columns\n",
    "col = \"body_type\"\n",
    "le.fit(X_train[col])\n",
    "X_train[col] = le.transform(X_train[col])\n",
    "X_test[col] = le.transform(X_test[col])"
   ]
  },
  {
   "cell_type": "code",
   "execution_count": 379,
   "id": "bf2fde32",
   "metadata": {},
   "outputs": [
    {
     "name": "stdout",
     "output_type": "stream",
     "text": [
      "Train RMSE: 305297.13055571594\n",
      "Test RMSE: 743484.8302976006\n"
     ]
    }
   ],
   "source": [
    "from sklearn.ensemble import RandomForestRegressor\n",
    "\n",
    "rf = RandomForestRegressor(\n",
    "    n_estimators=400,\n",
    "    max_depth=75,\n",
    "    random_state=42,\n",
    ")\n",
    "\n",
    "rf.fit(X_train, y_train)\n",
    "train_preds = rf.predict(X_train)\n",
    "test_preds = rf.predict(X_test)\n",
    "\n",
    "# Evaluate the model\n",
    "train_rmse = root_mean_squared_error(y_train, train_preds)\n",
    "test_rmse = root_mean_squared_error(y_test, test_preds)\n",
    "print(f\"Train RMSE: {train_rmse}\")\n",
    "print(f\"Test RMSE: {test_rmse}\")"
   ]
  },
  {
   "cell_type": "code",
   "execution_count": 377,
   "id": "e593ebd6",
   "metadata": {},
   "outputs": [
    {
     "data": {
      "image/png": "[encoded data removed]",
      "text/plain": [
       "<Figure size 1000x600 with 1 Axes>"
      ]
     },
     "metadata": {},
     "output_type": "display_data"
    },
    {
     "name": "stdout",
     "output_type": "stream",
     "text": [
      "[6.95805440e-01 2.88514389e-01 5.55538112e-03 3.37822418e-03\n",
      " 2.34888677e-03 1.31348748e-03 8.12811624e-04 7.58167347e-04\n",
      " 6.45439060e-04 5.82987175e-04 2.84786221e-04]\n"
     ]
    }
   ],
   "source": [
    "importances = rf.feature_importances_\n",
    "features = X_train.columns\n",
    "\n",
    "# Sort the feature importances in descending order\n",
    "indices = importances.argsort()[::-1]\n",
    "\n",
    "# Plot the feature importances\n",
    "plt.figure(figsize=(10, 6))\n",
    "plt.title(\"Feature Importances\")\n",
    "plt.bar(range(len(importances)), importances[indices], align=\"center\")\n",
    "plt.xticks(range(len(importances)), features[indices], rotation=90)\n",
    "plt.tight_layout()\n",
    "plt.show()\n",
    "print(importances[indices])"
   ]
  },
  {
   "cell_type": "code",
   "execution_count": 203,
   "id": "116fef31",
   "metadata": {},
   "outputs": [],
   "source": [
    "cols_to_keep = [\"overall\", \"potential\", \"wage_eur\", \"age\", \"median_league_value\", \"median_club_value\"]\n",
    "X_train = X_train[cols_to_keep]\n",
    "X_test = X_test[cols_to_keep]"
   ]
  },
  {
   "cell_type": "code",
   "execution_count": 153,
   "id": "e7b28fec",
   "metadata": {},
   "outputs": [
    {
     "name": "stdout",
     "output_type": "stream",
     "text": [
      "Fitting 5 folds for each of 135 candidates, totalling 675 fits\n",
      "Best parameters: {'learning_rate': 0.3, 'max_depth': 3, 'subsample': 1.0}\n",
      "Best RMSE: 778649.4410681797\n"
     ]
    }
   ],
   "source": [
    "from sklearn.model_selection import GridSearchCV\n",
    "\n",
    "# Define the parameter grid\n",
    "param_grid = {\n",
    "    'max_depth': [2, 3, 4, 5, 6, 7, 8, 9, 10],\n",
    "    'learning_rate': [0.2, 0.25, 0.3, 0.35, 0.4],\n",
    "    'subsample': [0.5, 0.8, 1.0],\n",
    "}\n",
    "\n",
    "# Create the XGBoost regressor\n",
    "xgb_reg = xgb.XGBRegressor(enable_categorical=True, random_state=42)\n",
    "\n",
    "# Set up GridSearchCV\n",
    "grid_search = GridSearchCV(\n",
    "    estimator=xgb_reg,\n",
    "    param_grid=param_grid,\n",
    "    scoring='neg_root_mean_squared_error',\n",
    "    verbose=1,\n",
    "    n_jobs=-1\n",
    ")\n",
    "\n",
    "# Perform the grid search\n",
    "grid_search.fit(X_train, y_train)\n",
    "\n",
    "# Print the best parameters and the corresponding score\n",
    "print(\"Best parameters:\", grid_search.best_params_)\n",
    "print(\"Best RMSE:\", -grid_search.best_score_)"
   ]
  },
  {
   "cell_type": "code",
   "execution_count": 154,
   "id": "2d723064",
   "metadata": {},
   "outputs": [
    {
     "name": "stdout",
     "output_type": "stream",
     "text": [
      "Fitting 5 folds for each of 81 candidates, totalling 405 fits\n"
     ]
    },
    {
     "name": "stderr",
     "output_type": "stream",
     "text": [
      "/opt/homebrew/Caskroom/miniconda/base/envs/ML/lib/python3.10/site-packages/joblib/externals/loky/process_executor.py:752: UserWarning: A worker stopped while some jobs were given to the executor. This can be caused by a too short worker timeout or by a memory leak.\n",
      "  warnings.warn(\n"
     ]
    },
    {
     "name": "stdout",
     "output_type": "stream",
     "text": [
      "Best parameters: {'max_depth': 50, 'min_samples_leaf': 1, 'min_samples_split': 2, 'n_estimators': 1000}\n",
      "Best RMSE: 826705.6031138327\n"
     ]
    }
   ],
   "source": [
    "# Define the parameter grid\n",
    "rf_param_grid = {\n",
    "    'n_estimators': [100, 500, 1000],\n",
    "    'max_depth': [10, 50, 100],\n",
    "    'min_samples_split': [2, 5, 10],\n",
    "    'min_samples_leaf': [1, 2, 4]\n",
    "}\n",
    "\n",
    "# Create the RandomForestRegressor\n",
    "rf = RandomForestRegressor(random_state=42)\n",
    "\n",
    "# Set up GridSearchCV\n",
    "rf_grid_search = GridSearchCV(\n",
    "    estimator=rf,\n",
    "    param_grid=rf_param_grid,\n",
    "    scoring='neg_root_mean_squared_error',\n",
    "    verbose=1,\n",
    "    n_jobs=-1\n",
    ")\n",
    "\n",
    "# Perform the grid search\n",
    "rf_grid_search.fit(X_train, y_train)\n",
    "\n",
    "# Print the best parameters and the corresponding score\n",
    "print(\"Best parameters:\", rf_grid_search.best_params_)\n",
    "print(\"Best RMSE:\", -rf_grid_search.best_score_)"
   ]
  },
  {
   "cell_type": "code",
   "execution_count": 206,
   "id": "17eab40d",
   "metadata": {},
   "outputs": [
    {
     "name": "stdout",
     "output_type": "stream",
     "text": [
      "<class 'pandas.core.frame.DataFrame'>\n",
      "Index: 15333 entries, 0 to 15390\n",
      "Data columns (total 74 columns):\n",
      " #   Column                       Non-Null Count  Dtype   \n",
      "---  ------                       --------------  -----   \n",
      " 0   player_positions             15333 non-null  category\n",
      " 1   overall                      15333 non-null  int64   \n",
      " 2   potential                    15333 non-null  int64   \n",
      " 3   value_eur                    15333 non-null  float64 \n",
      " 4   wage_eur                     15333 non-null  float64 \n",
      " 5   age                          15333 non-null  int64   \n",
      " 6   height_cm                    15333 non-null  int64   \n",
      " 7   weight_kg                    15333 non-null  int64   \n",
      " 8   club_team_id                 15333 non-null  float64 \n",
      " 9   league_name                  15333 non-null  category\n",
      " 10  league_level                 15333 non-null  float64 \n",
      " 11  club_position                15333 non-null  category\n",
      " 12  nationality_id               15333 non-null  int64   \n",
      " 13  preferred_foot               15333 non-null  category\n",
      " 14  weak_foot                    15333 non-null  int64   \n",
      " 15  skill_moves                  15333 non-null  int64   \n",
      " 16  international_reputation     15333 non-null  int64   \n",
      " 17  work_rate                    15333 non-null  category\n",
      " 18  body_type                    15333 non-null  category\n",
      " 19  release_clause_eur           15333 non-null  float64 \n",
      " 20  pace                         15333 non-null  float64 \n",
      " 21  shooting                     15333 non-null  float64 \n",
      " 22  passing                      15333 non-null  float64 \n",
      " 23  dribbling                    15333 non-null  float64 \n",
      " 24  defending                    15333 non-null  float64 \n",
      " 25  physic                       15333 non-null  float64 \n",
      " 26  attacking_crossing           15333 non-null  int64   \n",
      " 27  attacking_finishing          15333 non-null  int64   \n",
      " 28  attacking_heading_accuracy   15333 non-null  int64   \n",
      " 29  attacking_short_passing      15333 non-null  int64   \n",
      " 30  attacking_volleys            15333 non-null  int64   \n",
      " 31  skill_dribbling              15333 non-null  int64   \n",
      " 32  skill_curve                  15333 non-null  int64   \n",
      " 33  skill_fk_accuracy            15333 non-null  int64   \n",
      " 34  skill_long_passing           15333 non-null  int64   \n",
      " 35  skill_ball_control           15333 non-null  int64   \n",
      " 36  movement_acceleration        15333 non-null  int64   \n",
      " 37  movement_sprint_speed        15333 non-null  int64   \n",
      " 38  movement_agility             15333 non-null  int64   \n",
      " 39  movement_reactions           15333 non-null  int64   \n",
      " 40  movement_balance             15333 non-null  int64   \n",
      " 41  power_shot_power             15333 non-null  int64   \n",
      " 42  power_jumping                15333 non-null  int64   \n",
      " 43  power_stamina                15333 non-null  int64   \n",
      " 44  power_strength               15333 non-null  int64   \n",
      " 45  power_long_shots             15333 non-null  int64   \n",
      " 46  mentality_aggression         15333 non-null  int64   \n",
      " 47  mentality_interceptions      15333 non-null  int64   \n",
      " 48  mentality_positioning        15333 non-null  int64   \n",
      " 49  mentality_vision             15333 non-null  int64   \n",
      " 50  mentality_penalties          15333 non-null  int64   \n",
      " 51  mentality_composure          15333 non-null  int64   \n",
      " 52  defending_marking_awareness  15333 non-null  int64   \n",
      " 53  defending_standing_tackle    15333 non-null  int64   \n",
      " 54  defending_sliding_tackle     15333 non-null  int64   \n",
      " 55  goalkeeping_diving           15333 non-null  int64   \n",
      " 56  goalkeeping_handling         15333 non-null  int64   \n",
      " 57  goalkeeping_kicking          15333 non-null  int64   \n",
      " 58  goalkeeping_positioning      15333 non-null  int64   \n",
      " 59  goalkeeping_reflexes         15333 non-null  int64   \n",
      " 60  goalkeeping_speed            15333 non-null  float64 \n",
      " 61  years_left_contract          15333 non-null  float64 \n",
      " 62  years_in_club                15333 non-null  float64 \n",
      " 63  work_attack                  15333 non-null  int64   \n",
      " 64  work_defense                 15333 non-null  int64   \n",
      " 65  primary_position             15333 non-null  category\n",
      " 66  attacking_score              15333 non-null  float64 \n",
      " 67  skills_score                 15333 non-null  float64 \n",
      " 68  movement_score               15333 non-null  float64 \n",
      " 69  power_score                  15333 non-null  float64 \n",
      " 70  mentality_score              15333 non-null  float64 \n",
      " 71  defending_technical_score    15333 non-null  float64 \n",
      " 72  is_starter                   15333 non-null  int64   \n",
      " 73  multiple_positions           15333 non-null  int64   \n",
      "dtypes: category(7), float64(20), int64(47)\n",
      "memory usage: 8.1 MB\n"
     ]
    }
   ],
   "source": [
    "df.info()"
   ]
  },
  {
   "cell_type": "code",
   "execution_count": 245,
   "id": "5a91fb4e",
   "metadata": {},
   "outputs": [],
   "source": [
    "df['overall_potential'] = df['overall'] * df['potential']\n",
    "df['overall_age_ratio'] = df['overall'] / df['age']\n",
    "df['wage_value_ratio'] = df['wage_eur'] / df['value_eur'].clip(lower=1)"
   ]
  },
  {
   "cell_type": "code",
   "execution_count": 248,
   "id": "60ee79a2",
   "metadata": {},
   "outputs": [],
   "source": [
    "# Create skill aggregates with weights\n",
    "attacking_cols = [col for col in df.columns if col.startswith('attacking_')]\n",
    "skill_cols = [col for col in df.columns if col.startswith('skill_')]\n",
    "movement_cols = [col for col in df.columns if col.startswith('movement_')]\n",
    "power_cols = [col for col in df.columns if col.startswith('power_')]\n",
    "mentality_cols = [col for col in df.columns if col.startswith('mentality_')]\n",
    "goalkeeping_cols = [col for col in df.columns if col.startswith('goalkeeping_')]\n",
    "\n",
    "# Weight the aggregates by the player's position\n",
    "df['is_forward'] = df['club_position'].isin(['ST', 'CF', 'LW', 'RW'])\n",
    "df['is_midfielder'] = df['club_position'].isin(['CAM', 'CM', 'CDM', 'LM', 'RM'])\n",
    "df['is_defender'] = df['club_position'].isin(['CB', 'LB', 'RB', 'LWB', 'RWB'])\n",
    "df['is_goalkeeper'] = df['club_position'] == 'GK'\n",
    "\n",
    "# Create weighted skill scores\n",
    "df['total_attacking'] = df[attacking_cols].mean(axis=1) * (df['is_forward'] * 1.5 + df['is_midfielder'] * 1.2 + 1)\n",
    "df['total_skill'] = df[skill_cols].mean(axis=1) * (df['is_forward'] * 1.3 + df['is_midfielder'] * 1.4 + 1)\n",
    "df['total_movement'] = df[movement_cols].mean(axis=1) * (df['is_forward'] * 1.4 + df['is_midfielder'] * 1.3 + 1)\n",
    "df['total_power'] = df[power_cols].mean(axis=1) * (df['is_defender'] * 1.3 + 1)\n",
    "df['total_mentality'] = df[mentality_cols].mean(axis=1)\n",
    "df['total_goalkeeping'] = df[goalkeeping_cols].mean(axis=1) * (df['is_goalkeeper'] * 2 + 1)"
   ]
  },
  {
   "cell_type": "code",
   "execution_count": 249,
   "id": "89a477ca",
   "metadata": {
    "vscode": {
     "languageId": "markdown"
    }
   },
   "outputs": [
    {
     "name": "stdout",
     "output_type": "stream",
     "text": [
      "release_clause_eur          0.977850\n",
      "wage_eur                    0.823054\n",
      "overall_potential           0.638525\n",
      "international_reputation    0.632083\n",
      "overall                     0.558455\n",
      "potential                   0.528645\n",
      "movement_reactions          0.497302\n",
      "mentality_composure         0.392885\n",
      "mentality_vision            0.324678\n",
      "power_shot_power            0.306210\n",
      "Name: value_eur, dtype: float64\n"
     ]
    }
   ],
   "source": [
    "# Compute the correlation matrix\n",
    "correlation_matrix = df.select_dtypes(include=['float64', 'int64']).corr()\n",
    "\n",
    "# Get the top 10 features most correlated with 'value_eur'\n",
    "top_10_features = correlation_matrix['value_eur'].abs().sort_values(ascending=False).iloc[1:11]\n",
    "print(top_10_features)\n"
   ]
  },
  {
   "cell_type": "code",
   "execution_count": 259,
   "id": "03b5849e",
   "metadata": {},
   "outputs": [
    {
     "name": "stdout",
     "output_type": "stream",
     "text": [
      "Train RMSE: 378468.82737049414\n",
      "Test RMSE: 795827.0138352893\n"
     ]
    }
   ],
   "source": [
    "# Define the features and target variable\n",
    "features = ['release_clause_eur', 'wage_eur', 'overall_potential', 'international_reputation', 'overall', 'potential']\n",
    "target = 'value_eur'\n",
    "\n",
    "X = df[features]\n",
    "y = df[target]\n",
    "\n",
    "# Split the data into train and test sets\n",
    "X_train, X_test, y_train, y_test = train_test_split(X, y, test_size=0.2, random_state=42)\n",
    "\n",
    "# Create DMatrix for training and testing\n",
    "dtrain = xgb.DMatrix(X_train, label=y_train)\n",
    "dtest = xgb.DMatrix(X_test, label=y_test)\n",
    "\n",
    "# Define parameters for the XGBoost model\n",
    "params = {\n",
    "    'objective': 'reg:squarederror',\n",
    "    'max_depth': 5,\n",
    "    'learning_rate': 0.1,\n",
    "    'seed': 42\n",
    "}\n",
    "\n",
    "# Train the model\n",
    "num_round = 500\n",
    "model = xgb.train(params, dtrain, num_round)\n",
    "\n",
    "# Make predictions\n",
    "train_preds = model.predict(dtrain)\n",
    "test_preds = model.predict(dtest)\n",
    "\n",
    "# Evaluate the model\n",
    "train_rmse = root_mean_squared_error(y_train, train_preds)\n",
    "test_rmse = root_mean_squared_error(y_test, test_preds)\n",
    "\n",
    "print(f\"Train RMSE: {train_rmse}\")\n",
    "print(f\"Test RMSE: {test_rmse}\")"
   ]
  },
  {
   "cell_type": "code",
   "execution_count": 261,
   "id": "1a1b8f77",
   "metadata": {},
   "outputs": [
    {
     "name": "stdout",
     "output_type": "stream",
     "text": [
      "Train RMSE: 1355105.9768695033\n",
      "Test RMSE: 1491782.6965045996\n",
      "Train R^2: 0.9683592230983649\n",
      "Test R^2: 0.956540048598875\n"
     ]
    },
    {
     "name": "stderr",
     "output_type": "stream",
     "text": [
      "/opt/homebrew/Caskroom/miniconda/base/envs/ML/lib/python3.10/site-packages/sklearn/linear_model/_coordinate_descent.py:695: ConvergenceWarning: Objective did not converge. You might want to increase the number of iterations, check the scale of the features or consider increasing regularisation. Duality gap: 1.126e+16, tolerance: 7.119e+13\n",
      "  model = cd_fast.enet_coordinate_descent(\n"
     ]
    }
   ],
   "source": [
    "from sklearn.linear_model import Lasso\n",
    "from sklearn.preprocessing import StandardScaler\n",
    "from sklearn.pipeline import Pipeline\n",
    "\n",
    "# Select non-categorical columns\n",
    "non_categorical_cols = df.select_dtypes(exclude=['category', 'bool']).columns\n",
    "\n",
    "# Define features and target\n",
    "X = df[non_categorical_cols].drop(columns=['value_eur'])\n",
    "y = df['value_eur']\n",
    "\n",
    "# Split the data into train and test sets\n",
    "X_train, X_test, y_train, y_test = train_test_split(X, y, test_size=0.2, random_state=42)\n",
    "\n",
    "# Create a pipeline with standard scaling and Lasso regression\n",
    "lasso_pipeline = Pipeline([\n",
    "    ('scaler', StandardScaler()),\n",
    "    ('lasso', Lasso(alpha=0.1, random_state=42))\n",
    "])\n",
    "\n",
    "# Fit the model\n",
    "lasso_pipeline.fit(X_train, y_train)\n",
    "\n",
    "# Evaluate the model\n",
    "train_score = lasso_pipeline.score(X_train, y_train)\n",
    "test_score = lasso_pipeline.score(X_test, y_test)\n",
    "\n",
    "train_predictions = lasso_pipeline.predict(X_train)\n",
    "test_predictions = lasso_pipeline.predict(X_test)\n",
    "\n",
    "print(f\"Train RMSE: {root_mean_squared_error(y_train, train_predictions)}\")\n",
    "print(f\"Test RMSE: {root_mean_squared_error(y_test, test_predictions)}\")\n",
    "print(f\"Train R^2: {train_score}\")\n",
    "print(f\"Test R^2: {test_score}\")\n"
   ]
  },
  {
   "cell_type": "code",
   "execution_count": 262,
   "id": "58bb04cb",
   "metadata": {},
   "outputs": [
    {
     "name": "stdout",
     "output_type": "stream",
     "text": [
      "Coefficients of the Lasso model:\n",
      "[-3.32964170e+06 -2.82037982e+06  5.85772186e+05  1.98200535e+05\n",
      "  4.01182369e+04  1.32515463e+04  5.26194156e+04  2.54818183e+04\n",
      "  1.52104979e+04 -2.67211724e+03  2.13639107e+03  2.18430932e+05\n",
      "  6.41580360e+06  1.38325938e+06 -4.15506849e+05  3.15697924e+04\n",
      "  1.77612322e+04  4.55195315e+05  1.18351976e+05  1.69990364e+05\n",
      "  4.28488074e+05  1.01814236e+05  1.61746567e+05  3.25753821e+05\n",
      " -1.00638427e+05 -8.85514819e+04 -2.33728739e+04 -1.05213160e+05\n",
      " -7.17823998e+04 -3.51138860e+05 -3.36589853e+05  1.20038163e+05\n",
      "  7.41407392e+04  1.55996778e+05  8.87532868e+04 -1.66447600e+04\n",
      "  9.64548057e+04  3.07548794e+04  1.03765875e+05  4.09126817e+05\n",
      "  3.80445564e+05  5.14037613e+05  3.10558555e+05  3.16405051e+05\n",
      "  3.27066461e+05 -9.35077984e+04 -2.97563407e+05 -1.16638133e+05\n",
      " -3.61351485e+04 -3.47544844e+03  1.10296386e+05  1.01456853e+05\n",
      "  5.63215059e+03  7.67070445e+05 -1.96682321e+05 -7.88387142e+04\n",
      "  6.31950342e+03  5.65622405e+03 -7.02010621e+05  1.25857738e+05\n",
      " -3.35903641e+05 -8.60180544e+04  1.22042215e+06  2.90071856e+05\n",
      "  2.76847323e+04 -1.10165151e+04  5.80497483e+06  4.35529962e+05\n",
      " -1.28760530e+05 -1.08439889e+05  9.03371232e+04  3.35434608e+04\n",
      "  1.55645059e+04 -3.09624937e+06 -1.23368830e+05]\n"
     ]
    }
   ],
   "source": [
    "# Extract the coefficients from the Lasso model\n",
    "coefficients = lasso_pipeline.named_steps['lasso'].coef_\n",
    "\n",
    "# Print the coefficients\n",
    "print(\"Coefficients of the Lasso model:\")\n",
    "print(coefficients)"
   ]
  },
  {
   "cell_type": "code",
   "execution_count": 264,
   "id": "528d5656",
   "metadata": {},
   "outputs": [
    {
     "name": "stdout",
     "output_type": "stream",
     "text": [
      "Train RMSE: 1385480.681982742\n",
      "Test RMSE: 1526993.1261847601\n"
     ]
    }
   ],
   "source": [
    "from sklearn.linear_model import LinearRegression\n",
    "\n",
    "# Define the features and target variable\n",
    "features = ['release_clause_eur', 'wage_eur', 'overall_potential', 'international_reputation', 'overall', 'potential']\n",
    "target = 'value_eur'\n",
    "\n",
    "X = df[features]\n",
    "y = df[target]\n",
    "\n",
    "# Split the data into train and test sets\n",
    "X_train, X_test, y_train, y_test = train_test_split(X, y, test_size=0.2, random_state=42)\n",
    "\n",
    "# Create and fit the linear regression model\n",
    "linear_reg = LinearRegression()\n",
    "linear_reg.fit(X_train, y_train)\n",
    "\n",
    "# Make predictions\n",
    "train_predictions = linear_reg.predict(X_train)\n",
    "test_predictions = linear_reg.predict(X_test)\n",
    "\n",
    "# Evaluate the model\n",
    "train_rmse = root_mean_squared_error(y_train, train_predictions)\n",
    "test_rmse = root_mean_squared_error(y_test, test_predictions)\n",
    "\n",
    "print(f\"Train RMSE: {train_rmse}\")\n",
    "print(f\"Test RMSE: {test_rmse}\")"
   ]
  },
  {
   "cell_type": "code",
   "execution_count": 277,
   "id": "35abbcc7",
   "metadata": {},
   "outputs": [],
   "source": [
    "df[\"potential_left\"] = df[\"potential\"] - df[\"overall\"].clip(lower=0)"
   ]
  },
  {
   "cell_type": "code",
   "execution_count": 278,
   "id": "569899a1",
   "metadata": {
    "vscode": {
     "languageId": "markdown"
    }
   },
   "outputs": [
    {
     "name": "stdout",
     "output_type": "stream",
     "text": [
      "value_eur                   1.000000\n",
      "release_clause_eur          0.977850\n",
      "wage_eur                    0.823054\n",
      "overall_potential           0.638525\n",
      "international_reputation    0.632083\n",
      "overall                     0.558455\n",
      "potential                   0.528645\n",
      "movement_reactions          0.497302\n",
      "mentality_composure         0.392885\n",
      "mentality_vision            0.324678\n",
      "power_shot_power            0.306210\n",
      "Name: value_eur, dtype: float64\n"
     ]
    }
   ],
   "source": [
    "# Compute the correlation matrix\n",
    "correlation_matrix = df.select_dtypes(include=['float64', 'int64']).corr()\n",
    "\n",
    "# Get the top 10 features most correlated with 'value_eur'\n",
    "top_10_features = correlation_matrix['value_eur'].abs().sort_values(ascending=False).iloc[:11]\n",
    "print(top_10_features)\n"
   ]
  },
  {
   "cell_type": "code",
   "execution_count": 268,
   "id": "7aa773fc",
   "metadata": {},
   "outputs": [
    {
     "name": "stdout",
     "output_type": "stream",
     "text": [
      "<class 'pandas.core.frame.DataFrame'>\n",
      "Index: 15333 entries, 0 to 15390\n",
      "Data columns (total 88 columns):\n",
      " #   Column                       Non-Null Count  Dtype   \n",
      "---  ------                       --------------  -----   \n",
      " 0   player_positions             15333 non-null  category\n",
      " 1   overall                      15333 non-null  int64   \n",
      " 2   potential                    15333 non-null  int64   \n",
      " 3   value_eur                    15333 non-null  float64 \n",
      " 4   wage_eur                     15333 non-null  float64 \n",
      " 5   age                          15333 non-null  int64   \n",
      " 6   height_cm                    15333 non-null  int64   \n",
      " 7   weight_kg                    15333 non-null  int64   \n",
      " 8   club_team_id                 15333 non-null  float64 \n",
      " 9   league_name                  15333 non-null  category\n",
      " 10  league_level                 15333 non-null  float64 \n",
      " 11  club_position                15333 non-null  category\n",
      " 12  nationality_id               15333 non-null  int64   \n",
      " 13  preferred_foot               15333 non-null  category\n",
      " 14  weak_foot                    15333 non-null  int64   \n",
      " 15  skill_moves                  15333 non-null  int64   \n",
      " 16  international_reputation     15333 non-null  int64   \n",
      " 17  work_rate                    15333 non-null  category\n",
      " 18  body_type                    15333 non-null  category\n",
      " 19  release_clause_eur           15333 non-null  float64 \n",
      " 20  pace                         15333 non-null  float64 \n",
      " 21  shooting                     15333 non-null  float64 \n",
      " 22  passing                      15333 non-null  float64 \n",
      " 23  dribbling                    15333 non-null  float64 \n",
      " 24  defending                    15333 non-null  float64 \n",
      " 25  physic                       15333 non-null  float64 \n",
      " 26  attacking_crossing           15333 non-null  int64   \n",
      " 27  attacking_finishing          15333 non-null  int64   \n",
      " 28  attacking_heading_accuracy   15333 non-null  int64   \n",
      " 29  attacking_short_passing      15333 non-null  int64   \n",
      " 30  attacking_volleys            15333 non-null  int64   \n",
      " 31  skill_dribbling              15333 non-null  int64   \n",
      " 32  skill_curve                  15333 non-null  int64   \n",
      " 33  skill_fk_accuracy            15333 non-null  int64   \n",
      " 34  skill_long_passing           15333 non-null  int64   \n",
      " 35  skill_ball_control           15333 non-null  int64   \n",
      " 36  movement_acceleration        15333 non-null  int64   \n",
      " 37  movement_sprint_speed        15333 non-null  int64   \n",
      " 38  movement_agility             15333 non-null  int64   \n",
      " 39  movement_reactions           15333 non-null  int64   \n",
      " 40  movement_balance             15333 non-null  int64   \n",
      " 41  power_shot_power             15333 non-null  int64   \n",
      " 42  power_jumping                15333 non-null  int64   \n",
      " 43  power_stamina                15333 non-null  int64   \n",
      " 44  power_strength               15333 non-null  int64   \n",
      " 45  power_long_shots             15333 non-null  int64   \n",
      " 46  mentality_aggression         15333 non-null  int64   \n",
      " 47  mentality_interceptions      15333 non-null  int64   \n",
      " 48  mentality_positioning        15333 non-null  int64   \n",
      " 49  mentality_vision             15333 non-null  int64   \n",
      " 50  mentality_penalties          15333 non-null  int64   \n",
      " 51  mentality_composure          15333 non-null  int64   \n",
      " 52  defending_marking_awareness  15333 non-null  int64   \n",
      " 53  defending_standing_tackle    15333 non-null  int64   \n",
      " 54  defending_sliding_tackle     15333 non-null  int64   \n",
      " 55  goalkeeping_diving           15333 non-null  int64   \n",
      " 56  goalkeeping_handling         15333 non-null  int64   \n",
      " 57  goalkeeping_kicking          15333 non-null  int64   \n",
      " 58  goalkeeping_positioning      15333 non-null  int64   \n",
      " 59  goalkeeping_reflexes         15333 non-null  int64   \n",
      " 60  goalkeeping_speed            15333 non-null  float64 \n",
      " 61  years_left_contract          15333 non-null  float64 \n",
      " 62  years_in_club                15333 non-null  float64 \n",
      " 63  work_attack                  15333 non-null  int64   \n",
      " 64  work_defense                 15333 non-null  int64   \n",
      " 65  primary_position             15333 non-null  category\n",
      " 66  attacking_score              15333 non-null  float64 \n",
      " 67  skills_score                 15333 non-null  float64 \n",
      " 68  movement_score               15333 non-null  float64 \n",
      " 69  power_score                  15333 non-null  float64 \n",
      " 70  mentality_score              15333 non-null  float64 \n",
      " 71  defending_technical_score    15333 non-null  float64 \n",
      " 72  is_starter                   15333 non-null  int64   \n",
      " 73  multiple_positions           15333 non-null  int64   \n",
      " 74  overall_potential            15333 non-null  int64   \n",
      " 75  overall_age_ratio            15333 non-null  float64 \n",
      " 76  wage_value_ratio             15333 non-null  float64 \n",
      " 77  is_forward                   15333 non-null  bool    \n",
      " 78  is_midfielder                15333 non-null  bool    \n",
      " 79  is_defender                  15333 non-null  bool    \n",
      " 80  is_goalkeeper                15333 non-null  bool    \n",
      " 81  total_attacking              15333 non-null  float64 \n",
      " 82  total_skill                  15333 non-null  float64 \n",
      " 83  total_movement               15333 non-null  float64 \n",
      " 84  total_power                  15333 non-null  float64 \n",
      " 85  total_mentality              15333 non-null  float64 \n",
      " 86  total_goalkeeping            15333 non-null  float64 \n",
      " 87  BMI                          15333 non-null  float64 \n",
      "dtypes: bool(4), category(7), float64(29), int64(48)\n",
      "memory usage: 9.3 MB\n"
     ]
    }
   ],
   "source": [
    "df.info()"
   ]
  },
  {
   "cell_type": "code",
   "execution_count": null,
   "id": "279488ad",
   "metadata": {},
   "outputs": [],
   "source": []
  }
 ],
 "metadata": {
  "kernelspec": {
   "display_name": "ML",
   "language": "python",
   "name": "python3"
  },
  "language_info": {
   "codemirror_mode": {
    "name": "ipython",
    "version": 3
   },
   "file_extension": ".py",
   "mimetype": "text/x-python",
   "name": "python",
   "nbconvert_exporter": "python",
   "pygments_lexer": "ipython3",
   "version": "3.10.16"
  }
 },
 "nbformat": 4,
 "nbformat_minor": 5
}
