{
 "cells": [
  {
   "cell_type": "markdown",
   "id": "1af09253",
   "metadata": {},
   "source": [
    "## Imports"
   ]
  },
  {
   "cell_type": "code",
   "execution_count": 105,
   "id": "37c1c963",
   "metadata": {},
   "outputs": [],
   "source": [
    "import pandas as pd\n",
    "import matplotlib.pyplot as plt\n",
    "from sklearn.model_selection import train_test_split\n",
    "from sklearn.metrics import root_mean_squared_error\n",
    "import xgboost as xgb"
   ]
  },
  {
   "cell_type": "code",
   "execution_count": 106,
   "id": "4f541d8f",
   "metadata": {},
   "outputs": [],
   "source": [
    "df = pd.read_csv('train.csv')\n",
    "df.dropna(subset=['value_eur'], inplace=True)"
   ]
  },
  {
   "cell_type": "code",
   "execution_count": 107,
   "id": "cd237af9",
   "metadata": {},
   "outputs": [
    {
     "name": "stdout",
     "output_type": "stream",
     "text": [
      "<class 'pandas.core.frame.DataFrame'>\n",
      "Index: 15333 entries, 0 to 15390\n",
      "Data columns (total 76 columns):\n",
      " #   Column                       Non-Null Count  Dtype  \n",
      "---  ------                       --------------  -----  \n",
      " 0   Unnamed: 0                   15333 non-null  int64  \n",
      " 1   id                           15333 non-null  int64  \n",
      " 2   short_name                   15333 non-null  object \n",
      " 3   long_name                    15333 non-null  object \n",
      " 4   player_positions             15333 non-null  object \n",
      " 5   overall                      15333 non-null  int64  \n",
      " 6   potential                    15333 non-null  int64  \n",
      " 7   value_eur                    15333 non-null  float64\n",
      " 8   wage_eur                     15333 non-null  float64\n",
      " 9   age                          15333 non-null  int64  \n",
      " 10  dob                          15333 non-null  object \n",
      " 11  height_cm                    15333 non-null  int64  \n",
      " 12  weight_kg                    15333 non-null  int64  \n",
      " 13  club_team_id                 15333 non-null  float64\n",
      " 14  club_name                    15333 non-null  object \n",
      " 15  league_name                  15333 non-null  object \n",
      " 16  league_level                 15333 non-null  float64\n",
      " 17  club_position                15333 non-null  object \n",
      " 18  club_jersey_number           15333 non-null  float64\n",
      " 19  club_loaned_from             876 non-null    object \n",
      " 20  club_joined                  14457 non-null  object \n",
      " 21  club_contract_valid_until    15333 non-null  float64\n",
      " 22  nationality_id               15333 non-null  int64  \n",
      " 23  nationality_name             15333 non-null  object \n",
      " 24  nation_position              556 non-null    object \n",
      " 25  nation_jersey_number         556 non-null    float64\n",
      " 26  preferred_foot               15333 non-null  object \n",
      " 27  weak_foot                    15333 non-null  int64  \n",
      " 28  skill_moves                  15333 non-null  int64  \n",
      " 29  international_reputation     15333 non-null  int64  \n",
      " 30  work_rate                    15333 non-null  object \n",
      " 31  body_type                    15333 non-null  object \n",
      " 32  release_clause_eur           14457 non-null  float64\n",
      " 33  player_tags                  1155 non-null   object \n",
      " 34  player_traits                7411 non-null   object \n",
      " 35  pace                         13610 non-null  float64\n",
      " 36  shooting                     13610 non-null  float64\n",
      " 37  passing                      13610 non-null  float64\n",
      " 38  dribbling                    13610 non-null  float64\n",
      " 39  defending                    13610 non-null  float64\n",
      " 40  physic                       13610 non-null  float64\n",
      " 41  attacking_crossing           15333 non-null  int64  \n",
      " 42  attacking_finishing          15333 non-null  int64  \n",
      " 43  attacking_heading_accuracy   15333 non-null  int64  \n",
      " 44  attacking_short_passing      15333 non-null  int64  \n",
      " 45  attacking_volleys            15333 non-null  int64  \n",
      " 46  skill_dribbling              15333 non-null  int64  \n",
      " 47  skill_curve                  15333 non-null  int64  \n",
      " 48  skill_fk_accuracy            15333 non-null  int64  \n",
      " 49  skill_long_passing           15333 non-null  int64  \n",
      " 50  skill_ball_control           15333 non-null  int64  \n",
      " 51  movement_acceleration        15333 non-null  int64  \n",
      " 52  movement_sprint_speed        15333 non-null  int64  \n",
      " 53  movement_agility             15333 non-null  int64  \n",
      " 54  movement_reactions           15333 non-null  int64  \n",
      " 55  movement_balance             15333 non-null  int64  \n",
      " 56  power_shot_power             15333 non-null  int64  \n",
      " 57  power_jumping                15333 non-null  int64  \n",
      " 58  power_stamina                15333 non-null  int64  \n",
      " 59  power_strength               15333 non-null  int64  \n",
      " 60  power_long_shots             15333 non-null  int64  \n",
      " 61  mentality_aggression         15333 non-null  int64  \n",
      " 62  mentality_interceptions      15333 non-null  int64  \n",
      " 63  mentality_positioning        15333 non-null  int64  \n",
      " 64  mentality_vision             15333 non-null  int64  \n",
      " 65  mentality_penalties          15333 non-null  int64  \n",
      " 66  mentality_composure          15333 non-null  int64  \n",
      " 67  defending_marking_awareness  15333 non-null  int64  \n",
      " 68  defending_standing_tackle    15333 non-null  int64  \n",
      " 69  defending_sliding_tackle     15333 non-null  int64  \n",
      " 70  goalkeeping_diving           15333 non-null  int64  \n",
      " 71  goalkeeping_handling         15333 non-null  int64  \n",
      " 72  goalkeeping_kicking          15333 non-null  int64  \n",
      " 73  goalkeeping_positioning      15333 non-null  int64  \n",
      " 74  goalkeeping_reflexes         15333 non-null  int64  \n",
      " 75  goalkeeping_speed            1723 non-null   float64\n",
      "dtypes: float64(15), int64(45), object(16)\n",
      "memory usage: 9.0+ MB\n"
     ]
    }
   ],
   "source": [
    "df.info()"
   ]
  },
  {
   "cell_type": "markdown",
   "id": "915b5623",
   "metadata": {},
   "source": [
    "## Drop irrelevant columns"
   ]
  },
  {
   "cell_type": "code",
   "execution_count": 108,
   "id": "11783d03",
   "metadata": {},
   "outputs": [],
   "source": [
    "cols_to_drop = ['Unnamed: 0', 'id', 'short_name', \"long_name\", \"dob\", \"club_jersey_number\", \"nation_jersey_number\", \"club_name\", \"club_loaned_from\", \"nation_position\", \"player_traits\", \"player_tags\", \"nationality_name\"]\n",
    "\n",
    "df.drop(columns=cols_to_drop, inplace=True, errors='ignore')"
   ]
  },
  {
   "cell_type": "markdown",
   "id": "ebb9230e",
   "metadata": {},
   "source": [
    "## Contract-related variable manipulation"
   ]
  },
  {
   "cell_type": "code",
   "execution_count": 109,
   "id": "2cff182f",
   "metadata": {},
   "outputs": [],
   "source": [
    "start_date = float(2021) # year when dataset was recorded \n",
    "df[\"years_left_contract\"] = df[\"club_contract_valid_until\"] - start_date\n",
    "\n",
    "df['club_joined'] = pd.to_datetime(df['club_joined'], format='%Y-%m-%d')\n",
    "df[\"years_in_club\"] = start_date - df[\"club_joined\"].dt.year"
   ]
  },
  {
   "cell_type": "code",
   "execution_count": 110,
   "id": "f401bd3c",
   "metadata": {},
   "outputs": [],
   "source": [
    "df.drop(columns=[\"club_contract_valid_until\", \"club_joined\"], inplace=True, errors='ignore')"
   ]
  },
  {
   "cell_type": "markdown",
   "id": "62434e8d",
   "metadata": {},
   "source": [
    "## Work rate split"
   ]
  },
  {
   "cell_type": "code",
   "execution_count": 111,
   "id": "f4489430",
   "metadata": {},
   "outputs": [],
   "source": [
    "df[[\"work_attack\", \"work_defense\"]] = df[\"work_rate\"].str.split(\"/\", expand=True)\n",
    "maps = {\"Low\": 1, \"Medium\": 2, \"High\": 3}\n",
    "df[\"work_attack\"] = df[\"work_attack\"].map(maps)\n",
    "df[\"work_defense\"] = df[\"work_defense\"].map(maps)"
   ]
  },
  {
   "cell_type": "code",
   "execution_count": 112,
   "id": "1cb3623f",
   "metadata": {},
   "outputs": [],
   "source": [
    "df[\"primary_position\"] = df[\"player_positions\"].str.split(\",\", expand=True)[0]"
   ]
  },
  {
   "cell_type": "markdown",
   "id": "05c03138",
   "metadata": {},
   "source": [
    "## Grouping Technical Attributes"
   ]
  },
  {
   "cell_type": "code",
   "execution_count": 113,
   "id": "aec9f5aa",
   "metadata": {},
   "outputs": [],
   "source": [
    "#Attacking attributes score\n",
    "df[\"attacking_score\"] = df[[\n",
    "    \"attacking_crossing\",\n",
    "    \"attacking_finishing\",\n",
    "    \"attacking_heading_accuracy\",\n",
    "    \"attacking_short_passing\",\n",
    "    \"attacking_volleys\"\n",
    "]].mean(axis=1)"
   ]
  },
  {
   "cell_type": "code",
   "execution_count": 114,
   "id": "88c49205",
   "metadata": {},
   "outputs": [],
   "source": [
    "#Skills attributes score\n",
    "df[\"skills_score\"] = df[[\n",
    "    \"skill_dribbling\",\n",
    "    \"skill_curve\",\n",
    "    \"skill_fk_accuracy\",\n",
    "    \"skill_long_passing\",\n",
    "    \"skill_ball_control\"\n",
    "]].mean(axis=1)"
   ]
  },
  {
   "cell_type": "code",
   "execution_count": 115,
   "id": "fd7dbe6c",
   "metadata": {},
   "outputs": [],
   "source": [
    "# Movement attributes score\n",
    "df[\"movement_score\"] = df[[\n",
    "    \"movement_acceleration\",\n",
    "    \"movement_sprint_speed\",\n",
    "    \"movement_agility\",\n",
    "    \"movement_reactions\",\n",
    "    \"movement_balance\"\n",
    "]].mean(axis=1)"
   ]
  },
  {
   "cell_type": "code",
   "execution_count": 116,
   "id": "703fd7cd",
   "metadata": {},
   "outputs": [],
   "source": [
    "# Power attributes score\n",
    "df[\"power_score\"] = df[[\n",
    "    \"power_shot_power\",\n",
    "    \"power_jumping\",\n",
    "    \"power_stamina\",\n",
    "    \"power_strength\",\n",
    "    \"power_long_shots\"\n",
    "]].mean(axis=1)"
   ]
  },
  {
   "cell_type": "code",
   "execution_count": 117,
   "id": "88d5654d",
   "metadata": {},
   "outputs": [],
   "source": [
    "# Mentality attributes score\n",
    "df[\"mentality_score\"] = df[[\n",
    "    \"mentality_aggression\",\n",
    "    \"mentality_interceptions\",\n",
    "    \"mentality_positioning\",\n",
    "    \"mentality_vision\",\n",
    "    \"mentality_penalties\",\n",
    "    \"mentality_composure\"\n",
    "]].mean(axis=1)"
   ]
  },
  {
   "cell_type": "code",
   "execution_count": 118,
   "id": "c14d0e7a",
   "metadata": {},
   "outputs": [],
   "source": [
    "# Defending technical attributes score\n",
    "df[\"defending_technical_score\"] = df[[\n",
    "    \"defending_marking_awareness\",\n",
    "    \"defending_standing_tackle\",\n",
    "    \"defending_sliding_tackle\"\n",
    "]].mean(axis=1)"
   ]
  },
  {
   "cell_type": "markdown",
   "id": "021d7233",
   "metadata": {},
   "source": [
    "## Starter bool"
   ]
  },
  {
   "cell_type": "code",
   "execution_count": 119,
   "id": "30160fad",
   "metadata": {},
   "outputs": [],
   "source": [
    "df[\"is_starter\"] = (~df[\"club_position\"].isin([\"SUB\", \"RES\"])).astype(int)"
   ]
  },
  {
   "cell_type": "markdown",
   "id": "83dddd69",
   "metadata": {},
   "source": [
    "## Multipositional bool"
   ]
  },
  {
   "cell_type": "code",
   "execution_count": 120,
   "id": "dfde0eb8",
   "metadata": {},
   "outputs": [],
   "source": [
    "df[\"multiple_positions\"] = df[\"player_positions\"].str.split(\",\").apply(lambda x: len(x) > 1).astype(int)"
   ]
  },
  {
   "cell_type": "markdown",
   "id": "85b25d48",
   "metadata": {},
   "source": [
    "## Handle Missing Data"
   ]
  },
  {
   "cell_type": "code",
   "execution_count": 121,
   "id": "f9c444a3",
   "metadata": {},
   "outputs": [
    {
     "name": "stdout",
     "output_type": "stream",
     "text": [
      "Index(['release_clause_eur', 'pace', 'shooting', 'passing', 'dribbling',\n",
      "       'defending', 'physic', 'goalkeeping_speed', 'years_in_club'],\n",
      "      dtype='object')\n"
     ]
    }
   ],
   "source": [
    "null_columns = df.columns[df.isnull().any()]\n",
    "print(null_columns)"
   ]
  },
  {
   "cell_type": "code",
   "execution_count": 122,
   "id": "74ba5723",
   "metadata": {},
   "outputs": [],
   "source": [
    "df[\"years_in_club\"] = df['years_in_club'].fillna(df['years_in_club'].mean())\n",
    "df['release_clause_eur'] = df['release_clause_eur'].fillna(df['release_clause_eur'].median())\n",
    "df['pace'] = df['pace'].fillna(0)\n",
    "df['shooting'] = df['shooting'].fillna(0)\n",
    "df['passing'] = df['passing'].fillna(0)\n",
    "df['dribbling'] = df['dribbling'].fillna(0)\n",
    "df['defending'] = df['defending'].fillna(0)\n",
    "df['physic'] = df['physic'].fillna(0)\n",
    "df['goalkeeping_speed'] = df['goalkeeping_speed'].fillna(0)"
   ]
  },
  {
   "cell_type": "code",
   "execution_count": 123,
   "id": "e0f59aa2",
   "metadata": {},
   "outputs": [],
   "source": [
    "cat_cols = df.select_dtypes(include=['object']).columns\n",
    "\n",
    "for col in cat_cols:\n",
    "    df[col] = df[col].astype('category')"
   ]
  },
  {
   "cell_type": "markdown",
   "id": "b145c919",
   "metadata": {},
   "source": [
    "## Median-encoding for club and league"
   ]
  },
  {
   "cell_type": "markdown",
   "id": "d1b774db",
   "metadata": {},
   "source": [
    "### Train-test split to avoid data leakage"
   ]
  },
  {
   "cell_type": "code",
   "execution_count": 124,
   "id": "9dfa9b32",
   "metadata": {},
   "outputs": [],
   "source": [
    "y = df[\"value_eur\"]\n",
    "\n",
    "X_train, X_test, y_train, y_test = train_test_split(df, y, test_size=0.2, random_state=42)"
   ]
  },
  {
   "cell_type": "code",
   "execution_count": 129,
   "id": "117d8237",
   "metadata": {},
   "outputs": [],
   "source": [
    "median_values_by_club = X_train.groupby(\"club_team_id\")[\"value_eur\"].median().to_dict()\n",
    "median_league_value = X_train.groupby(\"league_name\", observed=True)[\"value_eur\"].median().to_dict()"
   ]
  },
  {
   "cell_type": "code",
   "execution_count": 130,
   "id": "6e00badc",
   "metadata": {},
   "outputs": [],
   "source": [
    "X_train['median_club_value'] = X_train['club_team_id'].map(median_values_by_club)\n",
    "X_test['median_club_value'] = X_test['club_team_id'].map(median_values_by_club)\n",
    "\n",
    "X_train['median_league_value'] = X_train['league_name'].map(median_league_value)\n",
    "X_test['median_league_value'] = X_test['league_name'].map(median_league_value)"
   ]
  },
  {
   "cell_type": "code",
   "execution_count": 69,
   "id": "8c259604",
   "metadata": {},
   "outputs": [],
   "source": [
    "# X_train.drop(columns=[\"value_eur\"], inplace=True)\n",
    "# X_test.drop(columns=[\"value_eur\"], inplace=True)\n",
    "\n",
    "# X_train.drop(columns=[\"player_positions\", \"league_name\"], inplace=True)\n",
    "# X_test.drop(columns=[\"player_positions\", \"league_name\"], inplace=True)\n",
    "\n",
    "X_train.drop(columns=[\"club_team_id\", \"nationality_id\"], inplace=True)\n",
    "X_test.drop(columns=[\"club_team_id\", \"nationality_id\"], inplace=True)"
   ]
  },
  {
   "cell_type": "code",
   "execution_count": null,
   "id": "863208e3",
   "metadata": {},
   "outputs": [
    {
     "name": "stderr",
     "output_type": "stream",
     "text": [
      "/opt/homebrew/Caskroom/miniconda/base/envs/ML/lib/python3.10/site-packages/xgboost/training.py:183: UserWarning: [11:51:16] WARNING: /Users/runner/work/xgboost/xgboost/src/learner.cc:738: \n",
      "Parameters: { \"n_estimators\" } are not used.\n",
      "\n",
      "  bst.update(dtrain, iteration=i, fobj=obj)\n"
     ]
    },
    {
     "name": "stdout",
     "output_type": "stream",
     "text": [
      "Train RMSE: 8.862261390688444\n",
      "Test RMSE: 71906.21509553368\n"
     ]
    }
   ],
   "source": [
    "# Create DMatrix for training and testing\n",
    "dtrain = xgb.DMatrix(X_train, label=y_train, enable_categorical=True)\n",
    "dtest = xgb.DMatrix(X_test, label=y_test, enable_categorical=True)\n",
    "\n",
    "# Define parameters for the XGBoost model\n",
    "params = {\n",
    "    'objective': 'reg:squarederror',\n",
    "    'max_depth': 6,\n",
    "    'learning_rate': 0.1,\n",
    "    'seed': 42\n",
    "}\n",
    "\n",
    "# Train the model\n",
    "num_round = 1000\n",
    "model = xgb.train(params, dtrain, num_round)\n",
    "\n",
    "# Evaluate the model\n",
    "train_preds = model.predict(dtrain)\n",
    "test_preds = model.predict(dtest)\n",
    "\n",
    "train_rmse = root_mean_squared_error(y_train, train_preds)\n",
    "test_rmse = root_mean_squared_error(y_test, test_preds)\n",
    "\n",
    "print(f\"Train RMSE: {train_rmse}\")\n",
    "print(f\"Test RMSE: {test_rmse}\")"
   ]
  },
  {
   "cell_type": "code",
   "execution_count": 137,
   "id": "acc310ca",
   "metadata": {},
   "outputs": [
    {
     "data": {
      "image/png": "[encoded data removed]",
      "text/plain": [
       "<Figure size 640x480 with 1 Axes>"
      ]
     },
     "metadata": {},
     "output_type": "display_data"
    }
   ],
   "source": [
    "xgb.plot_importance(model, max_num_features=10, importance_type='weight')\n",
    "plt.show()"
   ]
  },
  {
   "cell_type": "code",
   "execution_count": 72,
   "id": "700ccfec",
   "metadata": {},
   "outputs": [],
   "source": [
    "# List of columns to keep\n",
    "cols_to_keep = [\n",
    "    \"overall\",\n",
    "    \"club_position\",\n",
    "    \"release_clause_eur\",\n",
    "    \"potential\",\n",
    "    \"wage_eur\",\n",
    "    \"age\",\n",
    "    \"primary_position\",\n",
    "    \"median_league_value\",\n",
    "    \"body_type\",\n",
    "    \"median_club_value\"\n",
    "]\n",
    "\n",
    "# Filter the dataset to keep only the specified columns\n",
    "X_train = X_train[cols_to_keep]\n",
    "X_test = X_test[cols_to_keep]"
   ]
  },
  {
   "cell_type": "code",
   "execution_count": 138,
   "id": "3ecc9e85",
   "metadata": {},
   "outputs": [
    {
     "name": "stdout",
     "output_type": "stream",
     "text": [
      "Train RMSE: 5350.108755954241\n",
      "Test RMSE: 74889.79294589149\n"
     ]
    }
   ],
   "source": [
    "reg = xgb.XGBRegressor(\n",
    "    max_depth=100,\n",
    "    learning_rate=0.1,\n",
    "    max_cat_to_onehot=5,\n",
    "    enable_categorical=True,\n",
    ")\n",
    "reg.fit(X_train, y_train)\n",
    "\n",
    "train_preds = reg.predict(X_train)\n",
    "test_preds = reg.predict(X_test)\n",
    "\n",
    "# Evaluate the model\n",
    "train_rmse = root_mean_squared_error(y_train, train_preds)\n",
    "test_rmse = root_mean_squared_error(y_test, test_preds)\n",
    "\n",
    "print(f\"Train RMSE: {train_rmse}\")\n",
    "print(f\"Test RMSE: {test_rmse}\")"
   ]
  },
  {
   "cell_type": "code",
   "execution_count": null,
   "id": "28a4cf55",
   "metadata": {},
   "outputs": [],
   "source": [
    "from sklearn.preprocessing import LabelEncoder\n",
    "\n",
    "# Create a LabelEncoder instance\n",
    "le = LabelEncoder()\n",
    "\n",
    "# Fit the LabelEncoder on the categorical columns\n",
    "for col in X_train.select_dtypes(include=['category']).columns:\n",
    "    le.fit(X_train[col])\n",
    "    X_train[col] = le.transform(X_train[col])\n",
    "    X_test[col] = le.transform(X_test[col])"
   ]
  },
  {
   "cell_type": "code",
   "execution_count": 89,
   "id": "e68ea2ee",
   "metadata": {},
   "outputs": [
    {
     "name": "stdout",
     "output_type": "stream",
     "text": [
      "<class 'pandas.core.frame.DataFrame'>\n",
      "Index: 12266 entries, 6770 to 7300\n",
      "Data columns (total 10 columns):\n",
      " #   Column               Non-Null Count  Dtype  \n",
      "---  ------               --------------  -----  \n",
      " 0   overall              12266 non-null  int64  \n",
      " 1   club_position        12266 non-null  int64  \n",
      " 2   release_clause_eur   12266 non-null  float64\n",
      " 3   potential            12266 non-null  int64  \n",
      " 4   wage_eur             12266 non-null  float64\n",
      " 5   age                  12266 non-null  int64  \n",
      " 6   primary_position     12266 non-null  int64  \n",
      " 7   median_league_value  12266 non-null  float64\n",
      " 8   body_type            12266 non-null  int64  \n",
      " 9   median_club_value    12266 non-null  float64\n",
      "dtypes: float64(4), int64(6)\n",
      "memory usage: 1.3 MB\n"
     ]
    }
   ],
   "source": [
    "X_train.info()"
   ]
  },
  {
   "cell_type": "code",
   "execution_count": 92,
   "id": "bf2fde32",
   "metadata": {},
   "outputs": [
    {
     "name": "stdout",
     "output_type": "stream",
     "text": [
      "Train RMSE: 308488.57857480866\n",
      "Test RMSE: 792059.1573526779\n"
     ]
    }
   ],
   "source": [
    "from sklearn.ensemble import RandomForestRegressor\n",
    "\n",
    "rf = RandomForestRegressor(\n",
    "    n_estimators=1000,\n",
    "    max_depth=100,\n",
    "    random_state=42,\n",
    ")\n",
    "\n",
    "rf.fit(X_train, y_train)\n",
    "train_preds = rf.predict(X_train)\n",
    "test_preds = rf.predict(X_test)\n",
    "\n",
    "# Evaluate the model\n",
    "train_rmse = root_mean_squared_error(y_train, train_preds)\n",
    "test_rmse = root_mean_squared_error(y_test, test_preds)\n",
    "print(f\"Train RMSE: {train_rmse}\")\n",
    "print(f\"Test RMSE: {test_rmse}\")"
   ]
  },
  {
   "cell_type": "code",
   "execution_count": 95,
   "id": "e7b28fec",
   "metadata": {},
   "outputs": [
    {
     "name": "stdout",
     "output_type": "stream",
     "text": [
      "Fitting 5 folds for each of 135 candidates, totalling 675 fits\n",
      "Best parameters: {'learning_rate': 0.3, 'max_depth': 3, 'subsample': 1.0}\n",
      "Best RMSE: 778649.4410681797\n"
     ]
    }
   ],
   "source": [
    "from sklearn.model_selection import GridSearchCV\n",
    "\n",
    "# Define the parameter grid\n",
    "param_grid = {\n",
    "    'max_depth': [2, 3, 4, 5, 6, 7, 8, 9, 10],\n",
    "    'learning_rate': [0.2, 0.25, 0.3, 0.35, 0.4],\n",
    "    'subsample': [0.5, 0.8, 1.0],\n",
    "}\n",
    "\n",
    "# Create the XGBoost regressor\n",
    "xgb_reg = xgb.XGBRegressor(enable_categorical=True, random_state=42)\n",
    "\n",
    "# Set up GridSearchCV\n",
    "grid_search = GridSearchCV(\n",
    "    estimator=xgb_reg,\n",
    "    param_grid=param_grid,\n",
    "    scoring='neg_root_mean_squared_error',\n",
    "    verbose=1,\n",
    "    n_jobs=-1\n",
    ")\n",
    "\n",
    "# Perform the grid search\n",
    "grid_search.fit(X_train, y_train)\n",
    "\n",
    "# Print the best parameters and the corresponding score\n",
    "print(\"Best parameters:\", grid_search.best_params_)\n",
    "print(\"Best RMSE:\", -grid_search.best_score_)"
   ]
  },
  {
   "cell_type": "code",
   "execution_count": null,
   "id": "2d723064",
   "metadata": {},
   "outputs": [],
   "source": []
  }
 ],
 "metadata": {
  "kernelspec": {
   "display_name": "ML",
   "language": "python",
   "name": "python3"
  },
  "language_info": {
   "codemirror_mode": {
    "name": "ipython",
    "version": 3
   },
   "file_extension": ".py",
   "mimetype": "text/x-python",
   "name": "python",
   "nbconvert_exporter": "python",
   "pygments_lexer": "ipython3",
   "version": "3.10.16"
  }
 },
 "nbformat": 4,
 "nbformat_minor": 5
}
