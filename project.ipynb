{
 "cells": [
  {
   "cell_type": "markdown",
   "id": "3707ffa1",
   "metadata": {},
   "source": [
    "## IMPORTS"
   ]
  },
  {
   "cell_type": "code",
   "execution_count": 162,
   "id": "9e9155fc",
   "metadata": {},
   "outputs": [],
   "source": [
    "import pandas as pd\n",
    "import matplotlib.pyplot as plt\n",
    "import numpy as np\n",
    "from sklearn.model_selection import train_test_split, RandomizedSearchCV, GridSearchCV\n",
    "from skopt import BayesSearchCV\n",
    "from sklearn.metrics import root_mean_squared_error, r2_score\n",
    "from sklearn.ensemble import RandomForestRegressor\n",
    "from sklearn.model_selection import GridSearchCV\n",
    "from sklearn.pipeline import Pipeline\n",
    "from skopt.space import Integer, Categorical, Real\n"
   ]
  },
  {
   "cell_type": "markdown",
   "id": "56f29efe",
   "metadata": {},
   "source": [
    "# NO GOALKEEPERS"
   ]
  },
  {
   "cell_type": "code",
   "execution_count": 163,
   "id": "7fb746ec",
   "metadata": {},
   "outputs": [],
   "source": [
    "df = pd.read_csv('train.csv')\n",
    "df.dropna(subset=['value_eur'], inplace=True)\n",
    "df = df[~df[\"player_positions\"].str.contains(\"GK\", na=False)]"
   ]
  },
  {
   "cell_type": "code",
   "execution_count": 164,
   "id": "abbea174",
   "metadata": {},
   "outputs": [
    {
     "name": "stdout",
     "output_type": "stream",
     "text": [
      "<class 'pandas.core.frame.DataFrame'>\n",
      "Index: 13610 entries, 0 to 15390\n",
      "Data columns (total 76 columns):\n",
      " #   Column                       Non-Null Count  Dtype  \n",
      "---  ------                       --------------  -----  \n",
      " 0   Unnamed: 0                   13610 non-null  int64  \n",
      " 1   id                           13610 non-null  int64  \n",
      " 2   short_name                   13610 non-null  object \n",
      " 3   long_name                    13610 non-null  object \n",
      " 4   player_positions             13610 non-null  object \n",
      " 5   overall                      13610 non-null  int64  \n",
      " 6   potential                    13610 non-null  int64  \n",
      " 7   value_eur                    13610 non-null  float64\n",
      " 8   wage_eur                     13610 non-null  float64\n",
      " 9   age                          13610 non-null  int64  \n",
      " 10  dob                          13610 non-null  object \n",
      " 11  height_cm                    13610 non-null  int64  \n",
      " 12  weight_kg                    13610 non-null  int64  \n",
      " 13  club_team_id                 13610 non-null  float64\n",
      " 14  club_name                    13610 non-null  object \n",
      " 15  league_name                  13610 non-null  object \n",
      " 16  league_level                 13610 non-null  float64\n",
      " 17  club_position                13610 non-null  object \n",
      " 18  club_jersey_number           13610 non-null  float64\n",
      " 19  club_loaned_from             807 non-null    object \n",
      " 20  club_joined                  12803 non-null  object \n",
      " 21  club_contract_valid_until    13610 non-null  float64\n",
      " 22  nationality_id               13610 non-null  int64  \n",
      " 23  nationality_name             13610 non-null  object \n",
      " 24  nation_position              485 non-null    object \n",
      " 25  nation_jersey_number         485 non-null    float64\n",
      " 26  preferred_foot               13610 non-null  object \n",
      " 27  weak_foot                    13610 non-null  int64  \n",
      " 28  skill_moves                  13610 non-null  int64  \n",
      " 29  international_reputation     13610 non-null  int64  \n",
      " 30  work_rate                    13610 non-null  object \n",
      " 31  body_type                    13610 non-null  object \n",
      " 32  release_clause_eur           12803 non-null  float64\n",
      " 33  player_tags                  1155 non-null   object \n",
      " 34  player_traits                6767 non-null   object \n",
      " 35  pace                         13610 non-null  float64\n",
      " 36  shooting                     13610 non-null  float64\n",
      " 37  passing                      13610 non-null  float64\n",
      " 38  dribbling                    13610 non-null  float64\n",
      " 39  defending                    13610 non-null  float64\n",
      " 40  physic                       13610 non-null  float64\n",
      " 41  attacking_crossing           13610 non-null  int64  \n",
      " 42  attacking_finishing          13610 non-null  int64  \n",
      " 43  attacking_heading_accuracy   13610 non-null  int64  \n",
      " 44  attacking_short_passing      13610 non-null  int64  \n",
      " 45  attacking_volleys            13610 non-null  int64  \n",
      " 46  skill_dribbling              13610 non-null  int64  \n",
      " 47  skill_curve                  13610 non-null  int64  \n",
      " 48  skill_fk_accuracy            13610 non-null  int64  \n",
      " 49  skill_long_passing           13610 non-null  int64  \n",
      " 50  skill_ball_control           13610 non-null  int64  \n",
      " 51  movement_acceleration        13610 non-null  int64  \n",
      " 52  movement_sprint_speed        13610 non-null  int64  \n",
      " 53  movement_agility             13610 non-null  int64  \n",
      " 54  movement_reactions           13610 non-null  int64  \n",
      " 55  movement_balance             13610 non-null  int64  \n",
      " 56  power_shot_power             13610 non-null  int64  \n",
      " 57  power_jumping                13610 non-null  int64  \n",
      " 58  power_stamina                13610 non-null  int64  \n",
      " 59  power_strength               13610 non-null  int64  \n",
      " 60  power_long_shots             13610 non-null  int64  \n",
      " 61  mentality_aggression         13610 non-null  int64  \n",
      " 62  mentality_interceptions      13610 non-null  int64  \n",
      " 63  mentality_positioning        13610 non-null  int64  \n",
      " 64  mentality_vision             13610 non-null  int64  \n",
      " 65  mentality_penalties          13610 non-null  int64  \n",
      " 66  mentality_composure          13610 non-null  int64  \n",
      " 67  defending_marking_awareness  13610 non-null  int64  \n",
      " 68  defending_standing_tackle    13610 non-null  int64  \n",
      " 69  defending_sliding_tackle     13610 non-null  int64  \n",
      " 70  goalkeeping_diving           13610 non-null  int64  \n",
      " 71  goalkeeping_handling         13610 non-null  int64  \n",
      " 72  goalkeeping_kicking          13610 non-null  int64  \n",
      " 73  goalkeeping_positioning      13610 non-null  int64  \n",
      " 74  goalkeeping_reflexes         13610 non-null  int64  \n",
      " 75  goalkeeping_speed            0 non-null      float64\n",
      "dtypes: float64(15), int64(45), object(16)\n",
      "memory usage: 8.0+ MB\n"
     ]
    }
   ],
   "source": [
    "df.info()"
   ]
  },
  {
   "cell_type": "markdown",
   "id": "77736ef0",
   "metadata": {},
   "source": [
    "## DATA PREPROCESSING"
   ]
  },
  {
   "cell_type": "code",
   "execution_count": 165,
   "id": "73684220",
   "metadata": {},
   "outputs": [],
   "source": [
    "# drop irrelevant columns\n",
    "cols_to_drop = ['Unnamed: 0', 'id', 'short_name', \"long_name\", \"dob\", \"club_jersey_number\", \"nation_jersey_number\", \"club_id\", \"club_loaned_from\", \"nation_position\", \"player_traits\", \"player_tags\", \"nationality_name\", \"club_team_id\", \"nationality_id\"]\n",
    "\n",
    "df.drop(columns=cols_to_drop, inplace=True, errors='ignore')"
   ]
  },
  {
   "cell_type": "code",
   "execution_count": 166,
   "id": "93727f0c",
   "metadata": {},
   "outputs": [],
   "source": [
    "# contract related variables manipulation\n",
    "start_date = float(2021) # year when dataset was recorded \n",
    "df[\"years_left_contract\"] = df[\"club_contract_valid_until\"] - start_date\n",
    "\n",
    "df['club_joined'] = pd.to_datetime(df['club_joined'], format='%Y-%m-%d')\n",
    "df[\"years_in_club\"] = start_date - df[\"club_joined\"].dt.year\n",
    "\n",
    "df.drop(columns=[\"club_contract_valid_until\", \"club_joined\"], inplace=True, errors='ignore')"
   ]
  },
  {
   "cell_type": "code",
   "execution_count": 167,
   "id": "627bd9b9",
   "metadata": {},
   "outputs": [],
   "source": [
    "# work_rate split \n",
    "df[[\"work_attack\", \"work_defense\"]] = df[\"work_rate\"].str.split(\"/\", expand=True)\n",
    "maps = {\"Low\": 1, \"Medium\": 2, \"High\": 3}\n",
    "df[\"work_attack\"] = df[\"work_attack\"].map(maps)\n",
    "df[\"work_defense\"] = df[\"work_defense\"].map(maps)"
   ]
  },
  {
   "cell_type": "code",
   "execution_count": 168,
   "id": "a9959da3",
   "metadata": {},
   "outputs": [],
   "source": [
    "# target based ordinal encoding for positions\n",
    "df[[\"primary_position\", \"secondary_position\", \"tertiary_position\"]] = df[\"player_positions\"].str.split(\",\", expand=True)\n",
    "\n",
    "club_position_map = df.groupby('club_position')['value_eur'].median().sort_values().rank().to_dict()\n",
    "club_position_map[None] = 0\n",
    "df[\"club_position\"] = df[\"club_position\"].map(club_position_map)\n",
    "df[\"primary_position\"] = df[\"primary_position\"].map(club_position_map)\n",
    "df[\"secondary_position\"] = df[\"secondary_position\"].map(club_position_map)\n",
    "df[\"tertiary_position\"] = df[\"tertiary_position\"].map(club_position_map)\n",
    "\n",
    "df[\"is_multiposition\"] = df[\"player_positions\"].apply(lambda x: len(x.split(\",\")) > 1).astype(int)"
   ]
  },
  {
   "cell_type": "code",
   "execution_count": 169,
   "id": "897b6523",
   "metadata": {},
   "outputs": [],
   "source": [
    "# Starter Bool\n",
    "df[\"is_starter\"] = (~df[\"club_position\"].isin([\"SUB\", \"RES\"])).astype(int)"
   ]
  },
  {
   "cell_type": "code",
   "execution_count": 170,
   "id": "30a7bb5e",
   "metadata": {},
   "outputs": [],
   "source": [
    "cat_cols = df.select_dtypes(include=['object']).columns\n",
    "\n",
    "for col in cat_cols:\n",
    "    df[col] = df[col].astype('category')"
   ]
  },
  {
   "cell_type": "code",
   "execution_count": 171,
   "id": "e95d8889",
   "metadata": {},
   "outputs": [],
   "source": [
    "# data engineering\n",
    "df[\"overall_potential\"] = df[\"overall\"] * df[\"potential\"]"
   ]
  },
  {
   "cell_type": "markdown",
   "id": "c21efb97",
   "metadata": {},
   "source": [
    "## TRAIN"
   ]
  },
  {
   "cell_type": "code",
   "execution_count": 172,
   "id": "4202c40f",
   "metadata": {},
   "outputs": [],
   "source": [
    "# not goalkeeper"
   ]
  },
  {
   "cell_type": "code",
   "execution_count": 173,
   "id": "6cb7204e",
   "metadata": {},
   "outputs": [],
   "source": [
    "# goalkeeper"
   ]
  },
  {
   "cell_type": "code",
   "execution_count": null,
   "id": "ac294239",
   "metadata": {},
   "outputs": [],
   "source": []
  },
  {
   "cell_type": "code",
   "execution_count": 174,
   "id": "40f0279b",
   "metadata": {},
   "outputs": [],
   "source": [
    "# Split first\n",
    "X = df.drop(columns=[\"value_eur\"], errors='ignore')\n",
    "y = df[\"value_eur\"]\n",
    "X_train, X_test, y_train, y_test = train_test_split(X, y, test_size=0.2, random_state=42)\n",
    "\n",
    "# Merge temporarily for groupby operations\n",
    "train_df = X_train.copy()\n",
    "train_df[\"value_eur\"] = y_train\n",
    "\n",
    "# Compute mappings from training set only\n",
    "club_map = train_df.groupby('club_name', observed=True)['value_eur'].median().sort_values().rank().to_dict()\n",
    "league_map = train_df.groupby('league_name', observed=True)['value_eur'].median().sort_values().rank().to_dict()\n",
    "work_rate_map = train_df.groupby('work_rate', observed=True)['value_eur'].median().sort_values().rank().to_dict()\n",
    "\n",
    "# Apply mappings\n",
    "X_train[\"club_name\"] = X_train[\"club_name\"].map(club_map)\n",
    "X_test[\"club_name\"] = X_test[\"club_name\"].map(club_map)\n",
    "\n",
    "X_train[\"league_name\"] = X_train[\"league_name\"].map(league_map)\n",
    "X_test[\"league_name\"] = X_test[\"league_name\"].map(league_map)\n",
    "\n",
    "X_train[\"work_rate\"] = X_train[\"work_rate\"].map(work_rate_map)\n",
    "X_test[\"work_rate\"] = X_test[\"work_rate\"].map(work_rate_map)"
   ]
  },
  {
   "cell_type": "code",
   "execution_count": 175,
   "id": "0607b23f",
   "metadata": {},
   "outputs": [],
   "source": [
    "# List of columns to keep\n",
    "cols_to_keep = [\n",
    "    \"release_clause_eur\", \"overall_potential\", \n",
    "    \"wage_eur\", \"age\", \"league_name\", \n",
    "    \"club_name\", \"work_rate\", \"is_starter\",\n",
    "    \"secondary_position\", \"tertiary_position\",\n",
    "]\n",
    "\n",
    "# Filter the DataFrame to keep only the specified columns\n",
    "X_train = X_train[cols_to_keep]\n",
    "X_test = X_test[cols_to_keep]"
   ]
  },
  {
   "cell_type": "code",
   "execution_count": 176,
   "id": "7b04a53b",
   "metadata": {},
   "outputs": [
    {
     "name": "stdout",
     "output_type": "stream",
     "text": [
      "Train RMSE: 297414.99340681836\n",
      "Test RMSE: 558652.1658887943\n",
      "Train R^2: 0.9984807926229545\n",
      "Test R^2: 0.9943935966162789\n"
     ]
    }
   ],
   "source": [
    "rf = RandomForestRegressor(\n",
    "    n_estimators=100,\n",
    "    max_depth=100,\n",
    "    random_state=42,\n",
    ")\n",
    "\n",
    "rf.fit(X_train, y_train)\n",
    "train_preds = rf.predict(X_train)\n",
    "test_preds = rf.predict(X_test)\n",
    "\n",
    "# Evaluate the model\n",
    "train_rmse = root_mean_squared_error(y_train, train_preds)\n",
    "test_rmse = root_mean_squared_error(y_test, test_preds)\n",
    "print(f\"Train RMSE: {train_rmse}\")\n",
    "print(f\"Test RMSE: {test_rmse}\")\n",
    "print(f\"Train R^2: {r2_score(y_train, train_preds)}\")\n",
    "print(f\"Test R^2: {r2_score(y_test, test_preds)}\")"
   ]
  },
  {
   "cell_type": "code",
   "execution_count": 177,
   "id": "bec193ed",
   "metadata": {},
   "outputs": [
    {
     "name": "stdout",
     "output_type": "stream",
     "text": [
      "Fitting 5 folds for each of 30 candidates, totalling 150 fits\n",
      "[CV 1/5] END max_depth=30, max_features=0.3, min_samples_leaf=10, min_samples_split=2, n_estimators=100;, score=-1907118.982 total time=   1.8s\n",
      "[CV 2/5] END max_depth=30, max_features=0.3, min_samples_leaf=10, min_samples_split=2, n_estimators=100;, score=-2425917.374 total time=   1.7s\n",
      "[CV 3/5] END max_depth=30, max_features=0.3, min_samples_leaf=10, min_samples_split=2, n_estimators=100;, score=-795645.555 total time=   1.8s\n",
      "[CV 4/5] END max_depth=30, max_features=0.3, min_samples_leaf=10, min_samples_split=2, n_estimators=100;, score=-1076125.202 total time=   1.1s\n",
      "[CV 5/5] END max_depth=30, max_features=0.3, min_samples_leaf=10, min_samples_split=2, n_estimators=100;, score=-1231114.711 total time=   1.1s\n",
      "[CV 3/5] END max_depth=10, max_features=0.3, min_samples_leaf=4, min_samples_split=2, n_estimators=300;, score=-715427.671 total time=   3.9s\n",
      "[CV 1/5] END max_depth=10, max_features=0.3, min_samples_leaf=4, min_samples_split=2, n_estimators=300;, score=-1495365.202 total time=   4.2s\n",
      "[CV 5/5] END max_depth=10, max_features=0.3, min_samples_leaf=4, min_samples_split=2, n_estimators=300;, score=-900107.873 total time=   3.9s\n",
      "[CV 4/5] END max_depth=10, max_features=0.3, min_samples_leaf=4, min_samples_split=2, n_estimators=300;, score=-825082.040 total time=   3.8s\n",
      "[CV 2/5] END max_depth=10, max_features=0.3, min_samples_leaf=4, min_samples_split=2, n_estimators=300;, score=-1853999.829 total time=   4.1s\n",
      "[CV 1/5] END max_depth=10, max_features=0.3, min_samples_leaf=6, min_samples_split=20, n_estimators=200;, score=-1802282.928 total time=   2.2s\n",
      "[CV 2/5] END max_depth=10, max_features=0.3, min_samples_leaf=6, min_samples_split=20, n_estimators=200;, score=-2246986.699 total time=   2.2s\n",
      "[CV 3/5] END max_depth=10, max_features=0.3, min_samples_leaf=6, min_samples_split=20, n_estimators=200;, score=-832373.962 total time=   2.2s\n",
      "[CV 5/5] END max_depth=10, max_features=0.3, min_samples_leaf=6, min_samples_split=20, n_estimators=200;, score=-1060199.295 total time=   1.9s\n",
      "[CV 4/5] END max_depth=10, max_features=0.3, min_samples_leaf=6, min_samples_split=20, n_estimators=200;, score=-1056727.186 total time=   2.0s\n",
      "[CV 2/5] END max_depth=10, max_features=0.8, min_samples_leaf=3, min_samples_split=5, n_estimators=200;, score=-1134647.966 total time=   3.7s\n",
      "[CV 1/5] END max_depth=10, max_features=0.8, min_samples_leaf=3, min_samples_split=5, n_estimators=200;, score=-1351310.019 total time=   3.9s\n",
      "[CV 4/5] END max_depth=10, max_features=0.8, min_samples_leaf=3, min_samples_split=5, n_estimators=200;, score=-592280.995 total time=   3.8s\n",
      "[CV 3/5] END max_depth=10, max_features=0.8, min_samples_leaf=3, min_samples_split=5, n_estimators=200;, score=-555934.497 total time=   4.0s\n",
      "[CV 5/5] END max_depth=10, max_features=0.8, min_samples_leaf=3, min_samples_split=5, n_estimators=200;, score=-678277.627 total time=   3.8s\n",
      "[CV 1/5] END max_depth=100, max_features=sqrt, min_samples_leaf=6, min_samples_split=5, n_estimators=100;, score=-1594633.358 total time=   1.0s\n",
      "[CV 2/5] END max_depth=100, max_features=sqrt, min_samples_leaf=6, min_samples_split=5, n_estimators=100;, score=-2137039.564 total time=   1.0s\n",
      "[CV 3/5] END max_depth=100, max_features=sqrt, min_samples_leaf=6, min_samples_split=5, n_estimators=100;, score=-759857.554 total time=   1.1s\n",
      "[CV 4/5] END max_depth=100, max_features=sqrt, min_samples_leaf=6, min_samples_split=5, n_estimators=100;, score=-902022.460 total time=   1.1s\n",
      "[CV 5/5] END max_depth=100, max_features=sqrt, min_samples_leaf=6, min_samples_split=5, n_estimators=100;, score=-973361.908 total time=   1.0s\n",
      "[CV 1/5] END max_depth=100, max_features=0.3, min_samples_leaf=4, min_samples_split=20, n_estimators=50;, score=-1616687.247 total time=   0.5s\n",
      "[CV 2/5] END max_depth=100, max_features=0.3, min_samples_leaf=4, min_samples_split=20, n_estimators=50;, score=-2121137.914 total time=   0.5s\n",
      "[CV 3/5] END max_depth=100, max_features=0.3, min_samples_leaf=4, min_samples_split=20, n_estimators=50;, score=-753417.809 total time=   0.5s\n",
      "[CV 4/5] END max_depth=100, max_features=0.3, min_samples_leaf=4, min_samples_split=20, n_estimators=50;, score=-987285.160 total time=   0.5s\n",
      "[CV 5/5] END max_depth=100, max_features=0.3, min_samples_leaf=4, min_samples_split=20, n_estimators=50;, score=-1111745.681 total time=   0.5s\n",
      "[CV 1/5] END max_depth=50, max_features=0.8, min_samples_leaf=4, min_samples_split=10, n_estimators=300;, score=-1461395.471 total time=   7.4s\n",
      "[CV 2/5] END max_depth=50, max_features=0.8, min_samples_leaf=4, min_samples_split=10, n_estimators=300;, score=-1275323.462 total time=   7.5s\n",
      "[CV 3/5] END max_depth=50, max_features=0.8, min_samples_leaf=4, min_samples_split=10, n_estimators=300;, score=-559250.936 total time=   7.5s\n",
      "[CV 1/5] END max_depth=30, max_features=0.8, min_samples_leaf=3, min_samples_split=10, n_estimators=100;, score=-1438657.764 total time=   2.7s\n",
      "[CV 3/5] END max_depth=30, max_features=0.8, min_samples_leaf=3, min_samples_split=10, n_estimators=100;, score=-563630.630 total time=   2.6s\n",
      "[CV 2/5] END max_depth=30, max_features=0.8, min_samples_leaf=3, min_samples_split=10, n_estimators=100;, score=-1220130.795 total time=   2.7s\n",
      "[CV 5/5] END max_depth=50, max_features=0.8, min_samples_leaf=4, min_samples_split=10, n_estimators=300;, score=-730910.513 total time=   7.5s\n",
      "[CV 4/5] END max_depth=50, max_features=0.8, min_samples_leaf=4, min_samples_split=10, n_estimators=300;, score=-612407.266 total time=   7.6s\n",
      "[CV 1/5] END max_depth=50, max_features=0.8, min_samples_leaf=10, min_samples_split=10, n_estimators=100;, score=-1692041.628 total time=   2.2s\n",
      "[CV 4/5] END max_depth=30, max_features=0.8, min_samples_leaf=3, min_samples_split=10, n_estimators=100;, score=-581100.557 total time=   2.7s\n",
      "[CV 2/5] END max_depth=50, max_features=0.8, min_samples_leaf=10, min_samples_split=10, n_estimators=100;, score=-1707294.288 total time=   2.1s\n",
      "[CV 5/5] END max_depth=30, max_features=0.8, min_samples_leaf=3, min_samples_split=10, n_estimators=100;, score=-719703.857 total time=   2.5s\n",
      "[CV 3/5] END max_depth=50, max_features=0.8, min_samples_leaf=10, min_samples_split=10, n_estimators=100;, score=-631075.323 total time=   2.1s\n",
      "[CV 4/5] END max_depth=50, max_features=0.8, min_samples_leaf=10, min_samples_split=10, n_estimators=100;, score=-758780.159 total time=   2.2s\n",
      "[CV 5/5] END max_depth=50, max_features=0.8, min_samples_leaf=10, min_samples_split=10, n_estimators=100;, score=-797496.855 total time=   2.2s\n",
      "[CV 1/5] END max_depth=100, max_features=sqrt, min_samples_leaf=4, min_samples_split=2, n_estimators=200;, score=-1498729.132 total time=   2.5s\n",
      "[CV 2/5] END max_depth=100, max_features=sqrt, min_samples_leaf=4, min_samples_split=2, n_estimators=200;, score=-1847891.053 total time=   2.7s\n",
      "[CV 3/5] END max_depth=100, max_features=sqrt, min_samples_leaf=4, min_samples_split=2, n_estimators=200;, score=-672255.070 total time=   3.1s\n",
      "[CV 4/5] END max_depth=100, max_features=sqrt, min_samples_leaf=4, min_samples_split=2, n_estimators=200;, score=-788804.769 total time=   2.9s\n",
      "[CV 5/5] END max_depth=100, max_features=sqrt, min_samples_leaf=4, min_samples_split=2, n_estimators=200;, score=-882346.157 total time=   2.7s\n",
      "[CV 1/5] END max_depth=30, max_features=sqrt, min_samples_leaf=2, min_samples_split=10, n_estimators=100;, score=-1382295.357 total time=   1.3s\n",
      "[CV 2/5] END max_depth=30, max_features=sqrt, min_samples_leaf=2, min_samples_split=10, n_estimators=100;, score=-1864527.888 total time=   1.6s\n",
      "[CV 3/5] END max_depth=30, max_features=sqrt, min_samples_leaf=2, min_samples_split=10, n_estimators=100;, score=-688451.102 total time=   1.8s\n",
      "[CV 4/5] END max_depth=30, max_features=sqrt, min_samples_leaf=2, min_samples_split=10, n_estimators=100;, score=-778994.407 total time=   2.2s\n",
      "[CV 2/5] END max_depth=100, max_features=0.8, min_samples_leaf=2, min_samples_split=10, n_estimators=300;, score=-1287142.239 total time=   9.3s\n",
      "[CV 1/5] END max_depth=100, max_features=0.8, min_samples_leaf=2, min_samples_split=10, n_estimators=300;, score=-1384920.352 total time=   9.8s\n",
      "[CV 5/5] END max_depth=30, max_features=sqrt, min_samples_leaf=2, min_samples_split=10, n_estimators=100;, score=-855747.108 total time=   2.3s\n",
      "[CV 4/5] END max_depth=100, max_features=0.8, min_samples_leaf=2, min_samples_split=10, n_estimators=300;, score=-595894.890 total time=   9.7s\n",
      "[CV 3/5] END max_depth=100, max_features=0.8, min_samples_leaf=2, min_samples_split=10, n_estimators=300;, score=-573727.771 total time=   9.9s\n",
      "[CV 5/5] END max_depth=100, max_features=0.8, min_samples_leaf=2, min_samples_split=10, n_estimators=300;, score=-705413.383 total time=   9.9s\n",
      "[CV 1/5] END max_depth=20, max_features=sqrt, min_samples_leaf=3, min_samples_split=5, n_estimators=50;, score=-1363731.533 total time=   0.8s\n",
      "[CV 2/5] END max_depth=20, max_features=sqrt, min_samples_leaf=3, min_samples_split=5, n_estimators=50;, score=-1947312.745 total time=   0.7s\n",
      "[CV 3/5] END max_depth=20, max_features=sqrt, min_samples_leaf=3, min_samples_split=5, n_estimators=50;, score=-673004.688 total time=   0.7s\n",
      "[CV 1/5] END max_depth=30, max_features=sqrt, min_samples_leaf=4, min_samples_split=20, n_estimators=200;, score=-1688941.326 total time=   3.1s\n",
      "[CV 5/5] END max_depth=20, max_features=sqrt, min_samples_leaf=3, min_samples_split=5, n_estimators=50;, score=-803279.543 total time=   0.6s\n",
      "[CV 4/5] END max_depth=20, max_features=sqrt, min_samples_leaf=3, min_samples_split=5, n_estimators=50;, score=-764675.205 total time=   0.7s\n",
      "[CV 2/5] END max_depth=30, max_features=sqrt, min_samples_leaf=4, min_samples_split=20, n_estimators=200;, score=-2200350.427 total time=   2.6s\n",
      "[CV 3/5] END max_depth=30, max_features=sqrt, min_samples_leaf=4, min_samples_split=20, n_estimators=200;, score=-771546.471 total time=   2.5s\n",
      "[CV 4/5] END max_depth=30, max_features=sqrt, min_samples_leaf=4, min_samples_split=20, n_estimators=200;, score=-988299.635 total time=   2.1s\n",
      "[CV 5/5] END max_depth=30, max_features=sqrt, min_samples_leaf=4, min_samples_split=20, n_estimators=200;, score=-1075084.204 total time=   2.3s\n",
      "[CV 1/5] END max_depth=50, max_features=0.3, min_samples_leaf=3, min_samples_split=15, n_estimators=200;, score=-1608341.171 total time=   2.4s\n",
      "[CV 2/5] END max_depth=50, max_features=0.3, min_samples_leaf=3, min_samples_split=15, n_estimators=200;, score=-2050196.408 total time=   2.4s\n",
      "[CV 3/5] END max_depth=50, max_features=0.3, min_samples_leaf=3, min_samples_split=15, n_estimators=200;, score=-741436.018 total time=   2.4s\n",
      "[CV 4/5] END max_depth=50, max_features=0.3, min_samples_leaf=3, min_samples_split=15, n_estimators=200;, score=-921787.253 total time=   2.4s\n",
      "[CV 5/5] END max_depth=50, max_features=0.3, min_samples_leaf=3, min_samples_split=15, n_estimators=200;, score=-966423.510 total time=   2.5s\n",
      "[CV 1/5] END max_depth=100, max_features=0.3, min_samples_leaf=2, min_samples_split=5, n_estimators=300;, score=-1370277.081 total time=   4.6s\n",
      "[CV 2/5] END max_depth=100, max_features=0.3, min_samples_leaf=2, min_samples_split=5, n_estimators=300;, score=-1708701.330 total time=   4.7s\n",
      "[CV 3/5] END max_depth=100, max_features=0.3, min_samples_leaf=2, min_samples_split=5, n_estimators=300;, score=-638582.442 total time=   4.9s\n",
      "[CV 1/5] END max_depth=10, max_features=sqrt, min_samples_leaf=6, min_samples_split=10, n_estimators=50;, score=-1616606.301 total time=   0.5s\n",
      "[CV 4/5] END max_depth=100, max_features=0.3, min_samples_leaf=2, min_samples_split=5, n_estimators=300;, score=-754361.756 total time=   4.7s\n",
      "[CV 2/5] END max_depth=10, max_features=sqrt, min_samples_leaf=6, min_samples_split=10, n_estimators=50;, score=-1980280.967 total time=   0.5s\n",
      "[CV 5/5] END max_depth=100, max_features=0.3, min_samples_leaf=2, min_samples_split=5, n_estimators=300;, score=-810382.025 total time=   4.8s\n",
      "[CV 3/5] END max_depth=10, max_features=sqrt, min_samples_leaf=6, min_samples_split=10, n_estimators=50;, score=-677105.374 total time=   0.5s\n",
      "[CV 4/5] END max_depth=10, max_features=sqrt, min_samples_leaf=6, min_samples_split=10, n_estimators=50;, score=-859678.154 total time=   0.5s\n",
      "[CV 5/5] END max_depth=10, max_features=sqrt, min_samples_leaf=6, min_samples_split=10, n_estimators=50;, score=-889460.729 total time=   0.5s\n",
      "[CV 1/5] END max_depth=20, max_features=0.5, min_samples_leaf=2, min_samples_split=20, n_estimators=300;, score=-1508783.064 total time=   5.5s\n",
      "[CV 3/5] END max_depth=20, max_features=0.5, min_samples_leaf=2, min_samples_split=20, n_estimators=300;, score=-603237.908 total time=   5.6s\n",
      "[CV 2/5] END max_depth=20, max_features=0.5, min_samples_leaf=2, min_samples_split=20, n_estimators=300;, score=-1746482.385 total time=   5.8s\n",
      "[CV 1/5] END max_depth=50, max_features=0.8, min_samples_leaf=3, min_samples_split=5, n_estimators=50;, score=-1383649.639 total time=   1.7s\n",
      "[CV 2/5] END max_depth=20, max_features=0.8, min_samples_leaf=2, min_samples_split=2, n_estimators=100;, score=-1100398.177 total time=   3.3s\n",
      "[CV 1/5] END max_depth=20, max_features=0.8, min_samples_leaf=2, min_samples_split=2, n_estimators=100;, score=-1286726.593 total time=   3.6s\n",
      "[CV 3/5] END max_depth=20, max_features=0.8, min_samples_leaf=2, min_samples_split=2, n_estimators=100;, score=-574336.635 total time=   3.6s\n",
      "[CV 4/5] END max_depth=20, max_features=0.5, min_samples_leaf=2, min_samples_split=20, n_estimators=300;, score=-730017.853 total time=   5.9s\n",
      "[CV 5/5] END max_depth=20, max_features=0.5, min_samples_leaf=2, min_samples_split=20, n_estimators=300;, score=-766676.925 total time=   5.8s\n",
      "[CV 4/5] END max_depth=20, max_features=0.8, min_samples_leaf=2, min_samples_split=2, n_estimators=100;, score=-602806.186 total time=   3.7s\n",
      "[CV 5/5] END max_depth=20, max_features=0.8, min_samples_leaf=2, min_samples_split=2, n_estimators=100;, score=-638086.149 total time=   3.5s\n",
      "[CV 2/5] END max_depth=50, max_features=0.8, min_samples_leaf=3, min_samples_split=5, n_estimators=50;, score=-1097289.668 total time=   1.9s\n",
      "[CV 3/5] END max_depth=50, max_features=0.8, min_samples_leaf=3, min_samples_split=5, n_estimators=50;, score=-568952.733 total time=   1.9s\n",
      "[CV 5/5] END max_depth=50, max_features=0.8, min_samples_leaf=3, min_samples_split=5, n_estimators=50;, score=-632380.011 total time=   1.6s\n",
      "[CV 4/5] END max_depth=50, max_features=0.8, min_samples_leaf=3, min_samples_split=5, n_estimators=50;, score=-578134.405 total time=   1.9s\n",
      "[CV 1/5] END max_depth=50, max_features=0.8, min_samples_leaf=4, min_samples_split=15, n_estimators=100;, score=-1535037.471 total time=   2.6s\n",
      "[CV 2/5] END max_depth=50, max_features=0.8, min_samples_leaf=4, min_samples_split=15, n_estimators=100;, score=-1478088.830 total time=   2.6s\n",
      "[CV 4/5] END max_depth=50, max_features=0.8, min_samples_leaf=4, min_samples_split=15, n_estimators=100;, score=-602567.566 total time=   2.4s\n",
      "[CV 3/5] END max_depth=50, max_features=0.8, min_samples_leaf=4, min_samples_split=15, n_estimators=100;, score=-599459.818 total time=   2.5s\n",
      "[CV 5/5] END max_depth=50, max_features=0.8, min_samples_leaf=4, min_samples_split=15, n_estimators=100;, score=-756647.912 total time=   2.5s\n",
      "[CV 1/5] END max_depth=50, max_features=sqrt, min_samples_leaf=10, min_samples_split=15, n_estimators=300;, score=-1851561.788 total time=   3.2s\n",
      "[CV 3/5] END max_depth=50, max_features=sqrt, min_samples_leaf=10, min_samples_split=15, n_estimators=300;, score=-803437.034 total time=   3.2s\n",
      "[CV 2/5] END max_depth=50, max_features=sqrt, min_samples_leaf=10, min_samples_split=15, n_estimators=300;, score=-2370625.998 total time=   3.3s\n",
      "[CV 4/5] END max_depth=50, max_features=sqrt, min_samples_leaf=10, min_samples_split=15, n_estimators=300;, score=-1049330.483 total time=   3.3s\n",
      "[CV 5/5] END max_depth=50, max_features=sqrt, min_samples_leaf=10, min_samples_split=15, n_estimators=300;, score=-1141315.543 total time=   3.3s\n",
      "[CV 1/5] END max_depth=50, max_features=sqrt, min_samples_leaf=4, min_samples_split=5, n_estimators=100;, score=-1516768.380 total time=   1.3s\n",
      "[CV 2/5] END max_depth=50, max_features=sqrt, min_samples_leaf=4, min_samples_split=5, n_estimators=100;, score=-1859066.311 total time=   1.3s\n",
      "[CV 4/5] END max_depth=50, max_features=sqrt, min_samples_leaf=4, min_samples_split=5, n_estimators=100;, score=-812906.288 total time=   1.3s\n",
      "[CV 3/5] END max_depth=50, max_features=sqrt, min_samples_leaf=4, min_samples_split=5, n_estimators=100;, score=-667736.481 total time=   1.4s\n",
      "[CV 1/5] END max_depth=20, max_features=0.5, min_samples_leaf=4, min_samples_split=2, n_estimators=50;, score=-1350855.198 total time=   0.9s\n",
      "[CV 2/5] END max_depth=20, max_features=0.5, min_samples_leaf=4, min_samples_split=2, n_estimators=50;, score=-1416003.580 total time=   0.9s\n",
      "[CV 5/5] END max_depth=50, max_features=sqrt, min_samples_leaf=4, min_samples_split=5, n_estimators=100;, score=-858645.578 total time=   1.2s\n",
      "[CV 3/5] END max_depth=100, max_features=0.5, min_samples_leaf=3, min_samples_split=15, n_estimators=300;, score=-571540.520 total time=   5.4s\n",
      "[CV 1/5] END max_depth=100, max_features=0.5, min_samples_leaf=3, min_samples_split=15, n_estimators=300;, score=-1442812.172 total time=   5.6s\n",
      "[CV 2/5] END max_depth=100, max_features=0.5, min_samples_leaf=3, min_samples_split=15, n_estimators=300;, score=-1665163.222 total time=   5.7s\n",
      "[CV 3/5] END max_depth=20, max_features=0.5, min_samples_leaf=4, min_samples_split=2, n_estimators=50;, score=-553350.566 total time=   1.1s\n",
      "[CV 4/5] END max_depth=20, max_features=0.5, min_samples_leaf=4, min_samples_split=2, n_estimators=50;, score=-671789.350 total time=   1.2s\n",
      "[CV 5/5] END max_depth=20, max_features=0.5, min_samples_leaf=4, min_samples_split=2, n_estimators=50;, score=-667285.432 total time=   1.2s\n",
      "[CV 4/5] END max_depth=100, max_features=0.5, min_samples_leaf=3, min_samples_split=15, n_estimators=300;, score=-613174.671 total time=   5.8s\n",
      "[CV 5/5] END max_depth=100, max_features=0.5, min_samples_leaf=3, min_samples_split=15, n_estimators=300;, score=-744983.500 total time=   5.7s\n",
      "[CV 2/5] END max_depth=20, max_features=sqrt, min_samples_leaf=10, min_samples_split=15, n_estimators=200;, score=-2367340.824 total time=   2.6s\n",
      "[CV 1/5] END max_depth=20, max_features=sqrt, min_samples_leaf=10, min_samples_split=15, n_estimators=200;, score=-1868639.899 total time=   2.8s\n",
      "[CV 3/5] END max_depth=20, max_features=sqrt, min_samples_leaf=10, min_samples_split=15, n_estimators=200;, score=-806249.709 total time=   2.7s\n",
      "[CV 4/5] END max_depth=20, max_features=sqrt, min_samples_leaf=10, min_samples_split=15, n_estimators=200;, score=-1049690.023 total time=   2.5s\n",
      "[CV 5/5] END max_depth=20, max_features=sqrt, min_samples_leaf=10, min_samples_split=15, n_estimators=200;, score=-1167053.170 total time=   2.5s\n",
      "[CV 1/5] END max_depth=10, max_features=0.3, min_samples_leaf=4, min_samples_split=5, n_estimators=200;, score=-1518357.553 total time=   2.2s\n",
      "[CV 2/5] END max_depth=10, max_features=0.3, min_samples_leaf=4, min_samples_split=5, n_estimators=200;, score=-1917348.355 total time=   2.0s\n",
      "[CV 3/5] END max_depth=10, max_features=0.3, min_samples_leaf=4, min_samples_split=5, n_estimators=200;, score=-732657.984 total time=   2.0s\n",
      "[CV 1/5] END max_depth=10, max_features=0.5, min_samples_leaf=4, min_samples_split=5, n_estimators=300;, score=-1342606.513 total time=   4.5s\n",
      "[CV 2/5] END max_depth=10, max_features=0.5, min_samples_leaf=4, min_samples_split=5, n_estimators=300;, score=-1434281.661 total time=   4.4s\n",
      "[CV 3/5] END max_depth=10, max_features=0.5, min_samples_leaf=4, min_samples_split=5, n_estimators=300;, score=-570884.459 total time=   4.8s\n",
      "[CV 4/5] END max_depth=10, max_features=0.3, min_samples_leaf=4, min_samples_split=5, n_estimators=200;, score=-848670.125 total time=   2.0s\n",
      "[CV 4/5] END max_depth=10, max_features=0.5, min_samples_leaf=4, min_samples_split=5, n_estimators=300;, score=-589927.097 total time=   4.5s\n",
      "[CV 5/5] END max_depth=10, max_features=0.5, min_samples_leaf=4, min_samples_split=5, n_estimators=300;, score=-689089.115 total time=   4.3s\n",
      "[CV 5/5] END max_depth=10, max_features=0.3, min_samples_leaf=4, min_samples_split=5, n_estimators=200;, score=-883824.524 total time=   2.0s\n",
      "[CV 1/5] END max_depth=10, max_features=0.3, min_samples_leaf=6, min_samples_split=5, n_estimators=200;, score=-1619551.418 total time=   2.1s\n",
      "[CV 2/5] END max_depth=10, max_features=0.3, min_samples_leaf=6, min_samples_split=5, n_estimators=200;, score=-1968838.818 total time=   2.0s\n",
      "[CV 3/5] END max_depth=10, max_features=0.3, min_samples_leaf=6, min_samples_split=5, n_estimators=200;, score=-719304.942 total time=   2.1s\n",
      "[CV 2/5] END max_depth=100, max_features=0.8, min_samples_leaf=4, min_samples_split=15, n_estimators=50;, score=-1484919.238 total time=   1.3s\n",
      "[CV 4/5] END max_depth=10, max_features=0.3, min_samples_leaf=6, min_samples_split=5, n_estimators=200;, score=-881155.754 total time=   1.9s\n",
      "[CV 1/5] END max_depth=100, max_features=0.8, min_samples_leaf=4, min_samples_split=15, n_estimators=50;, score=-1545274.083 total time=   1.3s\n",
      "[CV 3/5] END max_depth=100, max_features=0.8, min_samples_leaf=4, min_samples_split=15, n_estimators=50;, score=-608247.811 total time=   1.3s\n",
      "[CV 4/5] END max_depth=100, max_features=0.8, min_samples_leaf=4, min_samples_split=15, n_estimators=50;, score=-595421.463 total time=   1.2s\n",
      "[CV 5/5] END max_depth=100, max_features=0.8, min_samples_leaf=4, min_samples_split=15, n_estimators=50;, score=-790504.209 total time=   1.2s\n",
      "[CV 5/5] END max_depth=10, max_features=0.3, min_samples_leaf=6, min_samples_split=5, n_estimators=200;, score=-951244.713 total time=   1.8s\n",
      "Train RMSE: 400463.1863916532\n",
      "Test RMSE: 585989.4459401878\n"
     ]
    }
   ],
   "source": [
    "model = RandomForestRegressor(random_state=42)\n",
    "param_grid = {\n",
    "    'n_estimators': [50, 100, 200, 300],\n",
    "    'max_depth': [10, 20, 30, 50, 100],\n",
    "    'min_samples_split': [2, 5, 10, 15, 20],\n",
    "    'min_samples_leaf': [2, 3, 4, 6, 10], \n",
    "    'max_features': ['sqrt', 0.3, 0.5, 0.8]\n",
    "}\n",
    "search = RandomizedSearchCV(model, param_grid, n_iter=30 ,cv=5, scoring='neg_root_mean_squared_error', verbose=3, n_jobs=-1)\n",
    "search.fit(X_train, y_train)\n",
    "best_model = search.best_estimator_\n",
    "train_preds = best_model.predict(X_train)\n",
    "test_preds = best_model.predict(X_test)\n",
    "# Evaluate the model\n",
    "train_rmse = root_mean_squared_error(y_train, train_preds)\n",
    "test_rmse = root_mean_squared_error(y_test, test_preds)\n",
    "print(f\"Train RMSE: {train_rmse}\")\n",
    "print(f\"Test RMSE: {test_rmse}\")"
   ]
  },
  {
   "cell_type": "code",
   "execution_count": 178,
   "id": "05ee4936",
   "metadata": {},
   "outputs": [
    {
     "name": "stdout",
     "output_type": "stream",
     "text": [
      "Train RMSE: 278381.82945714536\n",
      "Test RMSE: 556714.232157933\n",
      "Train R^2: 0.9986690151484207\n",
      "Test R^2: 0.9944324257630158\n"
     ]
    }
   ],
   "source": [
    "model2 = RandomForestRegressor(\n",
    "    n_estimators=200,\n",
    "    max_depth=100,\n",
    "    random_state=42\n",
    ")\n",
    "\n",
    "model2.fit(X_train, y_train)\n",
    "train_preds = model2.predict(X_train)\n",
    "test_preds = model2.predict(X_test)\n",
    "# Evaluate the model\n",
    "train_rmse = root_mean_squared_error(y_train, train_preds)\n",
    "test_rmse = root_mean_squared_error(y_test, test_preds)\n",
    "print(f\"Train RMSE: {train_rmse}\")\n",
    "print(f\"Test RMSE: {test_rmse}\")\n",
    "print(f\"Train R^2: {r2_score(y_train, train_preds)}\")\n",
    "print(f\"Test R^2: {r2_score(y_test, test_preds)}\")"
   ]
  },
  {
   "cell_type": "markdown",
   "id": "37b2ad71",
   "metadata": {},
   "source": [
    "# MODEL WITH GOALKEEPERS"
   ]
  },
  {
   "cell_type": "code",
   "execution_count": 181,
   "id": "b92bdd9c",
   "metadata": {},
   "outputs": [],
   "source": [
    "df = pd.read_csv(\"train.csv\")\n",
    "df = df[df[\"player_positions\"].str.contains(\"GK\", na=False)]\n",
    "df.dropna(subset=[\"value_eur\"], inplace=True)"
   ]
  },
  {
   "cell_type": "code",
   "execution_count": 182,
   "id": "12b81cab",
   "metadata": {},
   "outputs": [],
   "source": [
    "df[\"overall_potential\"] = df[\"overall\"] * df[\"potential\"]"
   ]
  },
  {
   "cell_type": "code",
   "execution_count": 183,
   "id": "5410609a",
   "metadata": {},
   "outputs": [],
   "source": [
    "X = df.drop(columns=[\"value_eur\"], errors='ignore')\n",
    "y = df[\"value_eur\"]\n",
    "\n",
    "X_train, X_test, y_train, y_test = train_test_split(X, y, test_size=0.2, random_state=42)\n",
    "\n",
    "# Merge temporarily for groupby operations\n",
    "train_df = X_train.copy()\n",
    "train_df[\"value_eur\"] = y_train\n",
    "\n",
    "# Compute mappings from training set only\n",
    "club_map = train_df.groupby('club_name', observed=True)['value_eur'].median().sort_values().rank().to_dict()\n",
    "league_map = train_df.groupby('league_name', observed=True)['value_eur'].median().sort_values().rank().to_dict()\n",
    "work_rate_map = train_df.groupby('work_rate', observed=True)['value_eur'].median().sort_values().rank().to_dict()\n",
    "\n",
    "# Apply mappings\n",
    "X_train[\"club_name\"] = X_train[\"club_name\"].map(club_map)\n",
    "X_test[\"club_name\"] = X_test[\"club_name\"].map(club_map)\n",
    "\n",
    "X_train[\"league_name\"] = X_train[\"league_name\"].map(league_map)\n",
    "X_test[\"league_name\"] = X_test[\"league_name\"].map(league_map)\n",
    "\n",
    "X_train[\"work_rate\"] = X_train[\"work_rate\"].map(work_rate_map)\n",
    "X_test[\"work_rate\"] = X_test[\"work_rate\"].map(work_rate_map)"
   ]
  },
  {
   "cell_type": "code",
   "execution_count": 184,
   "id": "a873201a",
   "metadata": {},
   "outputs": [],
   "source": [
    "# List of columns to keep based on the top correlations with 'value_eur'\n",
    "cols_to_keep = [\n",
    "    \"release_clause_eur\", \"wage_eur\", \n",
    "    \"international_reputation\", \"overall_potential\", \n",
    "    \"goalkeeping_handling\", \"goalkeeping_diving\", \n",
    "    \"goalkeeping_reflexes\", \"goalkeeping_positioning\", \n",
    "    \"goalkeeping_kicking\"\n",
    "]\n",
    "\n",
    "# Filter the DataFrame to keep only the specified columns\n",
    "X_train = X_train[cols_to_keep]\n",
    "X_test = X_test[cols_to_keep]"
   ]
  },
  {
   "cell_type": "code",
   "execution_count": 185,
   "id": "69e72c11",
   "metadata": {},
   "outputs": [
    {
     "name": "stdout",
     "output_type": "stream",
     "text": [
      "Train RMSE: 760557.3338021102\n",
      "Test RMSE: 531822.9997200699\n",
      "Train R^2: 0.988112492918213\n",
      "Test R^2: 0.9933713425594822\n"
     ]
    }
   ],
   "source": [
    "rf = RandomForestRegressor(\n",
    "    n_estimators=400,\n",
    "    max_depth=50,\n",
    "    random_state=42,\n",
    ")\n",
    "\n",
    "rf.fit(X_train, y_train)\n",
    "train_preds = rf.predict(X_train)\n",
    "test_preds = rf.predict(X_test)\n",
    "\n",
    "# Evaluate the model\n",
    "train_rmse = root_mean_squared_error(y_train, train_preds)\n",
    "test_rmse = root_mean_squared_error(y_test, test_preds)\n",
    "print(f\"Train RMSE: {train_rmse}\")\n",
    "print(f\"Test RMSE: {test_rmse}\")\n",
    "print(f\"Train R^2: {r2_score(y_train, train_preds)}\")\n",
    "print(f\"Test R^2: {r2_score(y_test, test_preds)}\")"
   ]
  },
  {
   "cell_type": "markdown",
   "id": "3ef3c679",
   "metadata": {},
   "source": [
    "- need to add baseline model -> linear regression with top 10 most correlated features (so need correlation matrix for it)"
   ]
  }
 ],
 "metadata": {
  "kernelspec": {
   "display_name": "Python 3",
   "language": "python",
   "name": "python3"
  },
  "language_info": {
   "codemirror_mode": {
    "name": "ipython",
    "version": 3
   },
   "file_extension": ".py",
   "mimetype": "text/x-python",
   "name": "python",
   "nbconvert_exporter": "python",
   "pygments_lexer": "ipython3",
   "version": "3.11.12"
  }
 },
 "nbformat": 4,
 "nbformat_minor": 5
}
