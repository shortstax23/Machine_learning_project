{
 "cells": [
  {
   "cell_type": "markdown",
   "id": "3707ffa1",
   "metadata": {},
   "source": [
    "## IMPORTS"
   ]
  },
  {
   "cell_type": "code",
   "execution_count": null,
   "id": "9e9155fc",
   "metadata": {},
   "outputs": [],
   "source": [
    "import pandas as pd\n",
    "import matplotlib.pyplot as plt\n",
    "import numpy as np\n",
    "from sklearn.model_selection import train_test_split\n",
    "from sklearn.metrics import root_mean_squared_error, r2_score\n",
    "from sklearn.ensemble import RandomForestRegressor\n",
    "from sklearn.model_selection import GridSearchCV"
   ]
  },
  {
   "cell_type": "code",
   "execution_count": null,
   "id": "7fb746ec",
   "metadata": {},
   "outputs": [],
   "source": [
    "df = pd.read_csv('train.csv')\n",
    "df.dropna(subset=['value_eur'], inplace=True)\n",
    "df = df[~df[\"player_positions\"].str.contains(\"GK\", na=False)]"
   ]
  },
  {
   "cell_type": "code",
   "execution_count": null,
   "id": "abbea174",
   "metadata": {},
   "outputs": [],
   "source": [
    "df.info()"
   ]
  },
  {
   "cell_type": "markdown",
   "id": "77736ef0",
   "metadata": {},
   "source": [
    "## DATA PREPROCESSING"
   ]
  },
  {
   "cell_type": "code",
   "execution_count": null,
   "id": "73684220",
   "metadata": {},
   "outputs": [],
   "source": [
    "# drop irrelevant columns\n",
    "cols_to_drop = ['Unnamed: 0', 'id', 'short_name', \"long_name\", \"dob\", \"club_jersey_number\", \"nation_jersey_number\", \"club_id\", \"club_loaned_from\", \"nation_position\", \"player_traits\", \"player_tags\", \"nationality_name\", \"club_team_id\", \"nationality_id\"]\n",
    "\n",
    "df.drop(columns=cols_to_drop, inplace=True, errors='ignore')"
   ]
  },
  {
   "cell_type": "code",
   "execution_count": null,
   "id": "93727f0c",
   "metadata": {},
   "outputs": [],
   "source": [
    "# contract related variables manipulation\n",
    "start_date = float(2021) # year when dataset was recorded \n",
    "df[\"years_left_contract\"] = df[\"club_contract_valid_until\"] - start_date\n",
    "\n",
    "df['club_joined'] = pd.to_datetime(df['club_joined'], format='%Y-%m-%d')\n",
    "df[\"years_in_club\"] = start_date - df[\"club_joined\"].dt.year\n",
    "\n",
    "df.drop(columns=[\"club_contract_valid_until\", \"club_joined\"], inplace=True, errors='ignore')"
   ]
  },
  {
   "cell_type": "code",
   "execution_count": null,
   "id": "627bd9b9",
   "metadata": {},
   "outputs": [],
   "source": [
    "# work_rate split \n",
    "df[[\"work_attack\", \"work_defense\"]] = df[\"work_rate\"].str.split(\"/\", expand=True)\n",
    "maps = {\"Low\": 1, \"Medium\": 2, \"High\": 3}\n",
    "df[\"work_attack\"] = df[\"work_attack\"].map(maps)\n",
    "df[\"work_defense\"] = df[\"work_defense\"].map(maps)"
   ]
  },
  {
   "cell_type": "code",
   "execution_count": null,
   "id": "a9959da3",
   "metadata": {},
   "outputs": [],
   "source": [
    "# target based ordinal encoding for positions\n",
    "df[[\"primary_position\", \"secondary_position\", \"tertiary_position\"]] = df[\"player_positions\"].str.split(\",\", expand=True)\n",
    "\n",
    "club_position_map = df.groupby('club_position')['value_eur'].median().sort_values().rank().to_dict()\n",
    "club_position_map[None] = 0\n",
    "df[\"club_position\"] = df[\"club_position\"].map(club_position_map)\n",
    "df[\"primary_position\"] = df[\"primary_position\"].map(club_position_map)\n",
    "df[\"secondary_position\"] = df[\"secondary_position\"].map(club_position_map)\n",
    "df[\"tertiary_position\"] = df[\"tertiary_position\"].map(club_position_map)\n",
    "\n",
    "df[\"is_multiposition\"] = df[\"player_positions\"].apply(lambda x: len(x.split(\",\")) > 1).astype(int)\n",
    "df.drop(columns=[\"player_positions\"], inplace=True, errors='ignore')"
   ]
  },
  {
   "cell_type": "code",
   "execution_count": null,
   "id": "897b6523",
   "metadata": {},
   "outputs": [],
   "source": [
    "# Starter Bool\n",
    "df[\"is_starter\"] = (~df[\"club_position\"].isin([\"SUB\", \"RES\"])).astype(int)"
   ]
  },
  {
   "cell_type": "code",
   "execution_count": null,
   "id": "30a7bb5e",
   "metadata": {},
   "outputs": [],
   "source": [
    "cat_cols = df.select_dtypes(include=['object']).columns\n",
    "\n",
    "for col in cat_cols:\n",
    "    df[col] = df[col].astype('category')"
   ]
  },
  {
   "cell_type": "code",
   "execution_count": null,
   "id": "e95d8889",
   "metadata": {},
   "outputs": [],
   "source": [
    "# data engineering\n",
    "df[\"overall_potential\"] = df[\"overall\"] * df[\"potential\"]"
   ]
  },
  {
   "cell_type": "code",
   "execution_count": null,
   "id": "7044378a",
   "metadata": {},
   "outputs": [],
   "source": [
    "# target based ordinal enconding for club and league\n",
    "club_map = df.groupby('club_name', observed=True)['value_eur'].median().sort_values().rank().to_dict()\n",
    "df[\"club_name\"] = df[\"club_name\"].map(club_map)\n",
    "\n",
    "league_map = df.groupby('league_name', observed=True)['value_eur'].median().sort_values().rank().to_dict()\n",
    "df[\"league_name\"] = df[\"league_name\"].map(league_map)\n"
   ]
  },
  {
   "cell_type": "code",
   "execution_count": null,
   "id": "253a34f8",
   "metadata": {},
   "outputs": [],
   "source": [
    "# target based ordinal encoding for work rate\n",
    "work_rate_map = df.groupby('work_rate', observed=True)['value_eur'].median().sort_values().rank().to_dict()\n",
    "df[\"work_rate\"] = df[\"work_rate\"].map(work_rate_map)"
   ]
  },
  {
   "cell_type": "markdown",
   "id": "c21efb97",
   "metadata": {},
   "source": [
    "## TRAIN"
   ]
  },
  {
   "cell_type": "code",
   "execution_count": null,
   "id": "0ac62de4",
   "metadata": {},
   "outputs": [],
   "source": [
    "X = df.drop(columns=[\"value_eur\"], errors='ignore')\n",
    "y = df[\"value_eur\"]\n",
    "\n",
    "X_train, X_test, y_train, y_test = train_test_split(X, y, test_size=0.2, random_state=42)"
   ]
  },
  {
   "cell_type": "code",
   "execution_count": null,
   "id": "0607b23f",
   "metadata": {},
   "outputs": [],
   "source": [
    "# List of columns to keep\n",
    "cols_to_keep = [\n",
    "    \"release_clause_eur\", \"overall_potential\", \n",
    "    \"wage_eur\", \"age\", \"league_name\", \n",
    "    \"club_name\", \"work_rate\", \"is_starter\",\n",
    "    \"secondary_position\", \"tertiary_position\",\n",
    "]\n",
    "\n",
    "# Filter the DataFrame to keep only the specified columns\n",
    "X_train = X_train[cols_to_keep]\n",
    "X_test = X_test[cols_to_keep]"
   ]
  },
  {
   "cell_type": "code",
   "execution_count": null,
   "id": "7b04a53b",
   "metadata": {},
   "outputs": [],
   "source": [
    "rf = RandomForestRegressor(\n",
    "    n_estimators=100,\n",
    "    max_depth=100,\n",
    "    random_state=42,\n",
    ")\n",
    "\n",
    "rf.fit(X_train, y_train)\n",
    "train_preds = rf.predict(X_train)\n",
    "test_preds = rf.predict(X_test)\n",
    "\n",
    "# Evaluate the model\n",
    "train_rmse = root_mean_squared_error(y_train, train_preds)\n",
    "test_rmse = root_mean_squared_error(y_test, test_preds)\n",
    "print(f\"Train RMSE: {train_rmse}\")\n",
    "print(f\"Test RMSE: {test_rmse}\")\n",
    "print(f\"Train R^2: {r2_score(y_train, train_preds)}\")\n",
    "print(f\"Test R^2: {r2_score(y_test, test_preds)}\")"
   ]
  }
 ],
 "metadata": {
  "language_info": {
   "name": "python"
  }
 },
 "nbformat": 4,
 "nbformat_minor": 5
}
