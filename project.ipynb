{
 "cells": [
  {
   "cell_type": "markdown",
   "id": "3707ffa1",
   "metadata": {},
   "source": [
    "## IMPORTS"
   ]
  },
  {
   "cell_type": "code",
   "execution_count": 36,
   "id": "9e9155fc",
   "metadata": {},
   "outputs": [],
   "source": [
    "import pandas as pd\n",
    "import matplotlib.pyplot as plt\n",
    "import numpy as np\n",
    "from sklearn.model_selection import train_test_split\n",
    "from sklearn.metrics import root_mean_squared_error, r2_score\n",
    "from sklearn.ensemble import RandomForestRegressor\n",
    "from sklearn.model_selection import GridSearchCV"
   ]
  },
  {
   "cell_type": "code",
   "execution_count": 37,
   "id": "7fb746ec",
   "metadata": {},
   "outputs": [],
   "source": [
    "df = pd.read_csv('train.csv')\n",
    "df.dropna(subset=['value_eur'], inplace=True)\n",
    "df = df[~df[\"player_positions\"].str.contains(\"GK\", na=False)]"
   ]
  },
  {
   "cell_type": "code",
   "execution_count": 38,
   "id": "abbea174",
   "metadata": {},
   "outputs": [
    {
     "name": "stdout",
     "output_type": "stream",
     "text": [
      "<class 'pandas.core.frame.DataFrame'>\n",
      "Index: 13610 entries, 0 to 15390\n",
      "Data columns (total 76 columns):\n",
      " #   Column                       Non-Null Count  Dtype  \n",
      "---  ------                       --------------  -----  \n",
      " 0   Unnamed: 0                   13610 non-null  int64  \n",
      " 1   id                           13610 non-null  int64  \n",
      " 2   short_name                   13610 non-null  object \n",
      " 3   long_name                    13610 non-null  object \n",
      " 4   player_positions             13610 non-null  object \n",
      " 5   overall                      13610 non-null  int64  \n",
      " 6   potential                    13610 non-null  int64  \n",
      " 7   value_eur                    13610 non-null  float64\n",
      " 8   wage_eur                     13610 non-null  float64\n",
      " 9   age                          13610 non-null  int64  \n",
      " 10  dob                          13610 non-null  object \n",
      " 11  height_cm                    13610 non-null  int64  \n",
      " 12  weight_kg                    13610 non-null  int64  \n",
      " 13  club_team_id                 13610 non-null  float64\n",
      " 14  club_name                    13610 non-null  object \n",
      " 15  league_name                  13610 non-null  object \n",
      " 16  league_level                 13610 non-null  float64\n",
      " 17  club_position                13610 non-null  object \n",
      " 18  club_jersey_number           13610 non-null  float64\n",
      " 19  club_loaned_from             807 non-null    object \n",
      " 20  club_joined                  12803 non-null  object \n",
      " 21  club_contract_valid_until    13610 non-null  float64\n",
      " 22  nationality_id               13610 non-null  int64  \n",
      " 23  nationality_name             13610 non-null  object \n",
      " 24  nation_position              485 non-null    object \n",
      " 25  nation_jersey_number         485 non-null    float64\n",
      " 26  preferred_foot               13610 non-null  object \n",
      " 27  weak_foot                    13610 non-null  int64  \n",
      " 28  skill_moves                  13610 non-null  int64  \n",
      " 29  international_reputation     13610 non-null  int64  \n",
      " 30  work_rate                    13610 non-null  object \n",
      " 31  body_type                    13610 non-null  object \n",
      " 32  release_clause_eur           12803 non-null  float64\n",
      " 33  player_tags                  1155 non-null   object \n",
      " 34  player_traits                6767 non-null   object \n",
      " 35  pace                         13610 non-null  float64\n",
      " 36  shooting                     13610 non-null  float64\n",
      " 37  passing                      13610 non-null  float64\n",
      " 38  dribbling                    13610 non-null  float64\n",
      " 39  defending                    13610 non-null  float64\n",
      " 40  physic                       13610 non-null  float64\n",
      " 41  attacking_crossing           13610 non-null  int64  \n",
      " 42  attacking_finishing          13610 non-null  int64  \n",
      " 43  attacking_heading_accuracy   13610 non-null  int64  \n",
      " 44  attacking_short_passing      13610 non-null  int64  \n",
      " 45  attacking_volleys            13610 non-null  int64  \n",
      " 46  skill_dribbling              13610 non-null  int64  \n",
      " 47  skill_curve                  13610 non-null  int64  \n",
      " 48  skill_fk_accuracy            13610 non-null  int64  \n",
      " 49  skill_long_passing           13610 non-null  int64  \n",
      " 50  skill_ball_control           13610 non-null  int64  \n",
      " 51  movement_acceleration        13610 non-null  int64  \n",
      " 52  movement_sprint_speed        13610 non-null  int64  \n",
      " 53  movement_agility             13610 non-null  int64  \n",
      " 54  movement_reactions           13610 non-null  int64  \n",
      " 55  movement_balance             13610 non-null  int64  \n",
      " 56  power_shot_power             13610 non-null  int64  \n",
      " 57  power_jumping                13610 non-null  int64  \n",
      " 58  power_stamina                13610 non-null  int64  \n",
      " 59  power_strength               13610 non-null  int64  \n",
      " 60  power_long_shots             13610 non-null  int64  \n",
      " 61  mentality_aggression         13610 non-null  int64  \n",
      " 62  mentality_interceptions      13610 non-null  int64  \n",
      " 63  mentality_positioning        13610 non-null  int64  \n",
      " 64  mentality_vision             13610 non-null  int64  \n",
      " 65  mentality_penalties          13610 non-null  int64  \n",
      " 66  mentality_composure          13610 non-null  int64  \n",
      " 67  defending_marking_awareness  13610 non-null  int64  \n",
      " 68  defending_standing_tackle    13610 non-null  int64  \n",
      " 69  defending_sliding_tackle     13610 non-null  int64  \n",
      " 70  goalkeeping_diving           13610 non-null  int64  \n",
      " 71  goalkeeping_handling         13610 non-null  int64  \n",
      " 72  goalkeeping_kicking          13610 non-null  int64  \n",
      " 73  goalkeeping_positioning      13610 non-null  int64  \n",
      " 74  goalkeeping_reflexes         13610 non-null  int64  \n",
      " 75  goalkeeping_speed            0 non-null      float64\n",
      "dtypes: float64(15), int64(45), object(16)\n",
      "memory usage: 8.0+ MB\n"
     ]
    }
   ],
   "source": [
    "df.info()"
   ]
  },
  {
   "cell_type": "markdown",
   "id": "77736ef0",
   "metadata": {},
   "source": [
    "## DATA PREPROCESSING"
   ]
  },
  {
   "cell_type": "code",
   "execution_count": 39,
   "id": "73684220",
   "metadata": {},
   "outputs": [],
   "source": [
    "# drop irrelevant columns\n",
    "cols_to_drop = ['Unnamed: 0', 'id', 'short_name', \"long_name\", \"dob\", \"club_jersey_number\", \"nation_jersey_number\", \"club_id\", \"club_loaned_from\", \"nation_position\", \"player_traits\", \"player_tags\", \"nationality_name\", \"club_team_id\", \"nationality_id\"]\n",
    "\n",
    "df.drop(columns=cols_to_drop, inplace=True, errors='ignore')"
   ]
  },
  {
   "cell_type": "code",
   "execution_count": 40,
   "id": "93727f0c",
   "metadata": {},
   "outputs": [],
   "source": [
    "# contract related variables manipulation\n",
    "start_date = float(2021) # year when dataset was recorded \n",
    "df[\"years_left_contract\"] = df[\"club_contract_valid_until\"] - start_date\n",
    "\n",
    "df['club_joined'] = pd.to_datetime(df['club_joined'], format='%Y-%m-%d')\n",
    "df[\"years_in_club\"] = start_date - df[\"club_joined\"].dt.year\n",
    "\n",
    "df.drop(columns=[\"club_contract_valid_until\", \"club_joined\"], inplace=True, errors='ignore')"
   ]
  },
  {
   "cell_type": "code",
   "execution_count": 41,
   "id": "627bd9b9",
   "metadata": {},
   "outputs": [],
   "source": [
    "# work_rate split \n",
    "df[[\"work_attack\", \"work_defense\"]] = df[\"work_rate\"].str.split(\"/\", expand=True)\n",
    "maps = {\"Low\": 1, \"Medium\": 2, \"High\": 3}\n",
    "df[\"work_attack\"] = df[\"work_attack\"].map(maps)\n",
    "df[\"work_defense\"] = df[\"work_defense\"].map(maps)"
   ]
  },
  {
   "cell_type": "code",
   "execution_count": 42,
   "id": "a9959da3",
   "metadata": {},
   "outputs": [],
   "source": [
    "# target based ordinal encoding for positions\n",
    "df[[\"primary_position\", \"secondary_position\", \"tertiary_position\"]] = df[\"player_positions\"].str.split(\",\", expand=True)\n",
    "\n",
    "club_position_map = df.groupby('club_position')['value_eur'].median().sort_values().rank().to_dict()\n",
    "club_position_map[None] = 0\n",
    "df[\"club_position\"] = df[\"club_position\"].map(club_position_map)\n",
    "df[\"primary_position\"] = df[\"primary_position\"].map(club_position_map)\n",
    "df[\"secondary_position\"] = df[\"secondary_position\"].map(club_position_map)\n",
    "df[\"tertiary_position\"] = df[\"tertiary_position\"].map(club_position_map)\n",
    "\n",
    "df[\"is_multiposition\"] = df[\"player_positions\"].apply(lambda x: len(x.split(\",\")) > 1).astype(int)\n",
    "#df.drop(columns=[\"player_positions\"], inplace=True, errors='ignore')"
   ]
  },
  {
   "cell_type": "code",
   "execution_count": 43,
   "id": "897b6523",
   "metadata": {},
   "outputs": [],
   "source": [
    "# Starter Bool\n",
    "df[\"is_starter\"] = (~df[\"club_position\"].isin([\"SUB\", \"RES\"])).astype(int)"
   ]
  },
  {
   "cell_type": "code",
   "execution_count": 44,
   "id": "30a7bb5e",
   "metadata": {},
   "outputs": [],
   "source": [
    "cat_cols = df.select_dtypes(include=['object']).columns\n",
    "\n",
    "for col in cat_cols:\n",
    "    df[col] = df[col].astype('category')"
   ]
  },
  {
   "cell_type": "code",
   "execution_count": 45,
   "id": "e95d8889",
   "metadata": {},
   "outputs": [],
   "source": [
    "# data engineering\n",
    "df[\"overall_potential\"] = df[\"overall\"] * df[\"potential\"]"
   ]
  },
  {
   "cell_type": "code",
   "execution_count": 46,
   "id": "7044378a",
   "metadata": {},
   "outputs": [],
   "source": [
    "# target based ordinal enconding for club and league\n",
    "club_map = df.groupby('club_name', observed=True)['value_eur'].median().sort_values().rank().to_dict()\n",
    "df[\"club_name\"] = df[\"club_name\"].map(club_map)\n",
    "\n",
    "league_map = df.groupby('league_name', observed=True)['value_eur'].median().sort_values().rank().to_dict()\n",
    "df[\"league_name\"] = df[\"league_name\"].map(league_map)\n"
   ]
  },
  {
   "cell_type": "code",
   "execution_count": 47,
   "id": "253a34f8",
   "metadata": {},
   "outputs": [],
   "source": [
    "# target based ordinal encoding for work rate\n",
    "work_rate_map = df.groupby('work_rate', observed=True)['value_eur'].median().sort_values().rank().to_dict()\n",
    "df[\"work_rate\"] = df[\"work_rate\"].map(work_rate_map)"
   ]
  },
  {
   "cell_type": "markdown",
   "id": "c21efb97",
   "metadata": {},
   "source": [
    "## TRAIN"
   ]
  },
  {
   "cell_type": "code",
   "execution_count": 48,
   "id": "0ac62de4",
   "metadata": {},
   "outputs": [],
   "source": [
    "X = df.drop(columns=[\"value_eur\"], errors='ignore')\n",
    "y = df[\"value_eur\"]\n",
    "\n",
    "X_train, X_test, y_train, y_test = train_test_split(X, y, test_size=0.2, random_state=42)"
   ]
  },
  {
   "cell_type": "code",
   "execution_count": 49,
   "id": "0607b23f",
   "metadata": {},
   "outputs": [],
   "source": [
    "# List of columns to keep\n",
    "cols_to_keep = [\n",
    "    \"release_clause_eur\", \"overall_potential\", \n",
    "    \"wage_eur\", \"age\", \"league_name\", \n",
    "    \"club_name\", \"work_rate\", \"is_starter\",\n",
    "    \"secondary_position\", \"tertiary_position\",\n",
    "]\n",
    "\n",
    "# Filter the DataFrame to keep only the specified columns\n",
    "X_train = X_train[cols_to_keep]\n",
    "X_test = X_test[cols_to_keep]"
   ]
  },
  {
   "cell_type": "code",
   "execution_count": 50,
   "id": "7b04a53b",
   "metadata": {},
   "outputs": [
    {
     "name": "stdout",
     "output_type": "stream",
     "text": [
      "Train RMSE: 293309.9942535063\n",
      "Test RMSE: 558329.2499949153\n",
      "Train R^2: 0.9985224402016263\n",
      "Test R^2: 0.9944000760453109\n"
     ]
    }
   ],
   "source": [
    "rf = RandomForestRegressor(\n",
    "    n_estimators=100,\n",
    "    max_depth=100,\n",
    "    random_state=42,\n",
    ")\n",
    "\n",
    "rf.fit(X_train, y_train)\n",
    "train_preds = rf.predict(X_train)\n",
    "test_preds = rf.predict(X_test)\n",
    "\n",
    "# Evaluate the model\n",
    "train_rmse = root_mean_squared_error(y_train, train_preds)\n",
    "test_rmse = root_mean_squared_error(y_test, test_preds)\n",
    "print(f\"Train RMSE: {train_rmse}\")\n",
    "print(f\"Test RMSE: {test_rmse}\")\n",
    "print(f\"Train R^2: {r2_score(y_train, train_preds)}\")\n",
    "print(f\"Test R^2: {r2_score(y_test, test_preds)}\")"
   ]
  },
  {
   "cell_type": "markdown",
   "id": "f4890afa",
   "metadata": {},
   "source": [
    "- need to put ordinal encoding after train/test split for correctness \n",
    "- need to add the model just for goalkeepers \n",
    "- need to try and do hyperparameter tuning for the RandomForest\n",
    "- could try to do different model for players that have release_clause and for ones that don't have it \n",
    "- maybe see if there are other features that we can engineer "
   ]
  }
 ],
 "metadata": {
  "kernelspec": {
   "display_name": "Python 3",
   "language": "python",
   "name": "python3"
  },
  "language_info": {
   "codemirror_mode": {
    "name": "ipython",
    "version": 3
   },
   "file_extension": ".py",
   "mimetype": "text/x-python",
   "name": "python",
   "nbconvert_exporter": "python",
   "pygments_lexer": "ipython3",
   "version": "3.11.12"
  }
 },
 "nbformat": 4,
 "nbformat_minor": 5
}
